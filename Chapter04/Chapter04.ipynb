{
 "cells": [
  {
   "cell_type": "markdown",
   "id": "b551c9e5",
   "metadata": {},
   "source": [
    "# Chapter 4 Working with lists"
   ]
  },
  {
   "cell_type": "markdown",
   "id": "e5d5e04e",
   "metadata": {},
   "source": [
    "## 4.1 Looping through an entire list"
   ]
  },
  {
   "cell_type": "code",
   "execution_count": 1,
   "id": "63fa9b17",
   "metadata": {},
   "outputs": [
    {
     "name": "stdout",
     "output_type": "stream",
     "text": [
      "alice\n",
      "david\n",
      "carolina\n"
     ]
    }
   ],
   "source": [
    "magicians = ['alice', 'david', 'carolina']\n",
    "for magician in magicians:\n",
    "    print(magician)"
   ]
  },
  {
   "cell_type": "markdown",
   "id": "3ae888ec",
   "metadata": {},
   "source": [
    "### 4.1.1 A closer look at looping"
   ]
  },
  {
   "cell_type": "markdown",
   "id": "aea7d480",
   "metadata": {},
   "source": [
    "### 4.1.2 Doing more work within a for loop"
   ]
  },
  {
   "cell_type": "code",
   "execution_count": 2,
   "id": "8510f314",
   "metadata": {},
   "outputs": [
    {
     "name": "stdout",
     "output_type": "stream",
     "text": [
      "Alice, that was a great trick!\n",
      "David, that was a great trick!\n",
      "Carolina, that was a great trick!\n"
     ]
    }
   ],
   "source": [
    "magicians = ['alice', 'david', 'carolina']\n",
    "for magician in magicians:\n",
    "    print(f\"{magician.title()}, that was a great trick!\")"
   ]
  },
  {
   "cell_type": "code",
   "execution_count": 3,
   "id": "c1339a21",
   "metadata": {},
   "outputs": [
    {
     "name": "stdout",
     "output_type": "stream",
     "text": [
      "Alice, that was a great trick!\n",
      "I can't wait to see your next trick, Alice.\n",
      "\n",
      "David, that was a great trick!\n",
      "I can't wait to see your next trick, David.\n",
      "\n",
      "Carolina, that was a great trick!\n",
      "I can't wait to see your next trick, Carolina.\n",
      "\n"
     ]
    }
   ],
   "source": [
    "magicians = ['alice', 'david', 'carolina']\n",
    "for magician in magicians:\n",
    "    print(f\"{magician.title()}, that was a great trick!\")\n",
    "    print(f\"I can't wait to see your next trick, {magician.title()}.\\n\")"
   ]
  },
  {
   "cell_type": "markdown",
   "id": "272c1394",
   "metadata": {},
   "source": [
    "### 4.1.3 Doing something after a for loop"
   ]
  },
  {
   "cell_type": "code",
   "execution_count": 4,
   "id": "56a4352e",
   "metadata": {},
   "outputs": [
    {
     "name": "stdout",
     "output_type": "stream",
     "text": [
      "Alice, that was a great trick!\n",
      "I can't wait to see your next trick, Alice.\n",
      "\n",
      "David, that was a great trick!\n",
      "I can't wait to see your next trick, David.\n",
      "\n",
      "Carolina, that was a great trick!\n",
      "I can't wait to see your next trick, Carolina.\n",
      "\n",
      "Thank you, everyone. That was a great magic show!\n"
     ]
    }
   ],
   "source": [
    "magicians = ['alice', 'david', 'carolina']\n",
    "for magician in magicians:\n",
    "    print(f\"{magician.title()}, that was a great trick!\")\n",
    "    print(f\"I can't wait to see your next trick, {magician.title()}.\\n\")\n",
    "\n",
    "print(\"Thank you, everyone. That was a great magic show!\")"
   ]
  },
  {
   "cell_type": "markdown",
   "id": "e10d9761",
   "metadata": {},
   "source": [
    "## 4.2 Avoiding Indentation Errors"
   ]
  },
  {
   "cell_type": "markdown",
   "id": "8fbd02ad",
   "metadata": {},
   "source": [
    "### 4.2.1 Forgetting to indent"
   ]
  },
  {
   "cell_type": "code",
   "execution_count": 5,
   "id": "939780a1",
   "metadata": {},
   "outputs": [
    {
     "ename": "IndentationError",
     "evalue": "expected an indented block (2510761304.py, line 3)",
     "output_type": "error",
     "traceback": [
      "\u001b[0;36m  Input \u001b[0;32mIn [5]\u001b[0;36m\u001b[0m\n\u001b[0;31m    print(magician)\u001b[0m\n\u001b[0m    ^\u001b[0m\n\u001b[0;31mIndentationError\u001b[0m\u001b[0;31m:\u001b[0m expected an indented block\n"
     ]
    }
   ],
   "source": [
    "magicians = ['alice', 'david', 'carolina']\n",
    "for magician in magicians:\n",
    "print(magician)"
   ]
  },
  {
   "cell_type": "markdown",
   "id": "64aa2629",
   "metadata": {},
   "source": [
    "### 4.2.2 Forgetting to indent additional lines"
   ]
  },
  {
   "cell_type": "code",
   "execution_count": 6,
   "id": "b8169c8d",
   "metadata": {},
   "outputs": [
    {
     "name": "stdout",
     "output_type": "stream",
     "text": [
      "Alice, that was a great trick!\n",
      "David, that was a great trick!\n",
      "Carolina, that was a great trick!\n",
      "I can't wait to see your next trick, Carolina.\n",
      "\n"
     ]
    }
   ],
   "source": [
    "magicians = ['alice', 'david', 'carolina']\n",
    "for magician in magicians:\n",
    "    print(f\"{magician.title()}, that was a great trick!\")\n",
    "print(f\"I can't wait to see your next trick, {magician.title()}.\\n\")"
   ]
  },
  {
   "cell_type": "markdown",
   "id": "8da6d1a2",
   "metadata": {},
   "source": [
    "### 4.2.3 Indenting unnecessarily"
   ]
  },
  {
   "cell_type": "code",
   "execution_count": 7,
   "id": "e2e2391f",
   "metadata": {},
   "outputs": [
    {
     "ename": "IndentationError",
     "evalue": "unexpected indent (2495908521.py, line 2)",
     "output_type": "error",
     "traceback": [
      "\u001b[0;36m  Input \u001b[0;32mIn [7]\u001b[0;36m\u001b[0m\n\u001b[0;31m    print(message)\u001b[0m\n\u001b[0m    ^\u001b[0m\n\u001b[0;31mIndentationError\u001b[0m\u001b[0;31m:\u001b[0m unexpected indent\n"
     ]
    }
   ],
   "source": [
    "message = \"Hello Python world!\"\n",
    "    print(message)"
   ]
  },
  {
   "cell_type": "markdown",
   "id": "876d70bf",
   "metadata": {},
   "source": [
    "### 4.2.4 Indenting unnecessarily after the loop"
   ]
  },
  {
   "cell_type": "code",
   "execution_count": 8,
   "id": "40932449",
   "metadata": {},
   "outputs": [
    {
     "name": "stdout",
     "output_type": "stream",
     "text": [
      "Alice, that was a great trick!\n",
      "I can't wait to see your next trick, Alice.\n",
      "\n",
      "Thank you, everyone. That was a great magic show!\n",
      "David, that was a great trick!\n",
      "I can't wait to see your next trick, David.\n",
      "\n",
      "Thank you, everyone. That was a great magic show!\n",
      "Carolina, that was a great trick!\n",
      "I can't wait to see your next trick, Carolina.\n",
      "\n",
      "Thank you, everyone. That was a great magic show!\n"
     ]
    }
   ],
   "source": [
    "magicians = ['alice', 'david', 'carolina']\n",
    "for magician in magicians:\n",
    "    print(f\"{magician.title()}, that was a great trick!\")\n",
    "    print(f\"I can't wait to see your next trick, {magician.title()}.\\n\")\n",
    "\n",
    "    print(\"Thank you, everyone. That was a great magic show!\")"
   ]
  },
  {
   "cell_type": "markdown",
   "id": "266929ae",
   "metadata": {},
   "source": [
    "### 4.2.5 Forgetting the colon"
   ]
  },
  {
   "cell_type": "code",
   "execution_count": 9,
   "id": "7ab1ea31",
   "metadata": {},
   "outputs": [
    {
     "ename": "SyntaxError",
     "evalue": "invalid syntax (518316207.py, line 2)",
     "output_type": "error",
     "traceback": [
      "\u001b[0;36m  Input \u001b[0;32mIn [9]\u001b[0;36m\u001b[0m\n\u001b[0;31m    for magician in magicians\u001b[0m\n\u001b[0m                             ^\u001b[0m\n\u001b[0;31mSyntaxError\u001b[0m\u001b[0;31m:\u001b[0m invalid syntax\n"
     ]
    }
   ],
   "source": [
    "magicians = ['alice', 'david', 'carolina']\n",
    "for magician in magicians\n",
    "    print(magician)"
   ]
  },
  {
   "cell_type": "markdown",
   "id": "4ea530d4",
   "metadata": {},
   "source": [
    "### TRY IT YOURSELF\n",
    "\n",
    "- pizzas.py\n",
    "- animals.py"
   ]
  },
  {
   "cell_type": "markdown",
   "id": "813d6a2c",
   "metadata": {},
   "source": [
    "## 4.3 Making Numerical Lists"
   ]
  },
  {
   "cell_type": "markdown",
   "id": "3014dab9",
   "metadata": {},
   "source": [
    "### 4.3.1 Using the range() function"
   ]
  },
  {
   "cell_type": "code",
   "execution_count": 10,
   "id": "06106fdc",
   "metadata": {},
   "outputs": [
    {
     "name": "stdout",
     "output_type": "stream",
     "text": [
      "1\n",
      "2\n",
      "3\n",
      "4\n"
     ]
    }
   ],
   "source": [
    "for value in range(1, 5):\n",
    "    print(value)"
   ]
  },
  {
   "cell_type": "code",
   "execution_count": 11,
   "id": "6d0db945",
   "metadata": {},
   "outputs": [
    {
     "name": "stdout",
     "output_type": "stream",
     "text": [
      "1\n",
      "2\n",
      "3\n",
      "4\n",
      "5\n"
     ]
    }
   ],
   "source": [
    "for value in range(1, 6):\n",
    "    print(value)"
   ]
  },
  {
   "cell_type": "code",
   "execution_count": 12,
   "id": "912bd9f8",
   "metadata": {},
   "outputs": [
    {
     "name": "stdout",
     "output_type": "stream",
     "text": [
      "0\n",
      "1\n",
      "2\n",
      "3\n",
      "4\n",
      "5\n"
     ]
    }
   ],
   "source": [
    "for value in range(6):\n",
    "    print(value)"
   ]
  },
  {
   "cell_type": "markdown",
   "id": "47a490bc",
   "metadata": {},
   "source": [
    "### 4.3.2 Using range() to make a list of numbers"
   ]
  },
  {
   "cell_type": "code",
   "execution_count": 13,
   "id": "163309c0",
   "metadata": {},
   "outputs": [
    {
     "name": "stdout",
     "output_type": "stream",
     "text": [
      "[1, 2, 3, 4, 5]\n"
     ]
    }
   ],
   "source": [
    "numbers = list(range(1,6))\n",
    "print(numbers)"
   ]
  },
  {
   "cell_type": "code",
   "execution_count": 14,
   "id": "4112e079",
   "metadata": {},
   "outputs": [
    {
     "name": "stdout",
     "output_type": "stream",
     "text": [
      "[2, 4, 6, 8, 10]\n"
     ]
    }
   ],
   "source": [
    "even_numbers = list(range(2, 11, 2))\n",
    "print(even_numbers)"
   ]
  },
  {
   "cell_type": "code",
   "execution_count": 15,
   "id": "f53bc06f",
   "metadata": {},
   "outputs": [
    {
     "name": "stdout",
     "output_type": "stream",
     "text": [
      "[1, 4, 9, 16, 25, 36, 49, 64, 81, 100]\n"
     ]
    }
   ],
   "source": [
    "squares = []\n",
    "for value in range(1, 11):\n",
    "    square = value ** 2\n",
    "    squares.append(square)\n",
    "    \n",
    "print(squares)"
   ]
  },
  {
   "cell_type": "code",
   "execution_count": 16,
   "id": "326a2ab2",
   "metadata": {},
   "outputs": [
    {
     "name": "stdout",
     "output_type": "stream",
     "text": [
      "[1, 4, 9, 16, 25, 36, 49, 64, 81, 100]\n"
     ]
    }
   ],
   "source": [
    "squares = []\n",
    "for value in range(1, 11):\n",
    "    squares.append(value ** 2)\n",
    "    \n",
    "print(squares)"
   ]
  },
  {
   "cell_type": "markdown",
   "id": "e4ddf046",
   "metadata": {},
   "source": [
    "### 4.3.3 Simple statistics with a list of numbers"
   ]
  },
  {
   "cell_type": "code",
   "execution_count": 17,
   "id": "c6efd063",
   "metadata": {},
   "outputs": [
    {
     "data": {
      "text/plain": [
       "0"
      ]
     },
     "execution_count": 17,
     "metadata": {},
     "output_type": "execute_result"
    }
   ],
   "source": [
    "digits = list(range(0, 10))\n",
    "min(digits)"
   ]
  },
  {
   "cell_type": "code",
   "execution_count": 18,
   "id": "b8cfb912",
   "metadata": {},
   "outputs": [
    {
     "data": {
      "text/plain": [
       "9"
      ]
     },
     "execution_count": 18,
     "metadata": {},
     "output_type": "execute_result"
    }
   ],
   "source": [
    "max(digits)"
   ]
  },
  {
   "cell_type": "code",
   "execution_count": 19,
   "id": "777f8f3f",
   "metadata": {},
   "outputs": [
    {
     "data": {
      "text/plain": [
       "45"
      ]
     },
     "execution_count": 19,
     "metadata": {},
     "output_type": "execute_result"
    }
   ],
   "source": [
    "sum(digits)"
   ]
  },
  {
   "cell_type": "markdown",
   "id": "f1edec7d",
   "metadata": {},
   "source": [
    "### 4.3.4 List comprehensions"
   ]
  },
  {
   "cell_type": "code",
   "execution_count": 20,
   "id": "9a4d8063",
   "metadata": {},
   "outputs": [
    {
     "name": "stdout",
     "output_type": "stream",
     "text": [
      "[1, 4, 9, 16, 25, 36, 49, 64, 81, 100]\n"
     ]
    }
   ],
   "source": [
    "squares = [value ** 2 for value in range(1, 11)]\n",
    "print(squares)"
   ]
  },
  {
   "cell_type": "markdown",
   "id": "23a28f12",
   "metadata": {},
   "source": [
    "### TRY IT YOURSELF\n",
    "\n",
    "- counting_to_twenty.py\n",
    "- one_million.py\n",
    "- summing_a_million.py\n",
    "- odd_numbers.py\n",
    "- threes.py\n",
    "- cube.py\n",
    "- cube_comprehension.py"
   ]
  },
  {
   "cell_type": "markdown",
   "id": "3492965f",
   "metadata": {},
   "source": [
    "## 4.4 Working with part of a list"
   ]
  },
  {
   "cell_type": "markdown",
   "id": "69d1cbd2",
   "metadata": {},
   "source": [
    "### 4.4.1 Slicing a list"
   ]
  },
  {
   "cell_type": "code",
   "execution_count": 21,
   "id": "109ac5ae",
   "metadata": {},
   "outputs": [
    {
     "name": "stdout",
     "output_type": "stream",
     "text": [
      "['charles', 'martina', 'michael']\n"
     ]
    }
   ],
   "source": [
    "players = ['charles', 'martina', 'michael', 'florence', 'eli']\n",
    "print(players[0:3])"
   ]
  },
  {
   "cell_type": "code",
   "execution_count": 22,
   "id": "c9faec78",
   "metadata": {},
   "outputs": [
    {
     "name": "stdout",
     "output_type": "stream",
     "text": [
      "['martina', 'michael', 'florence']\n"
     ]
    }
   ],
   "source": [
    "players = ['charles', 'martina', 'michael', 'florence', 'eli']\n",
    "print(players[1:4])"
   ]
  },
  {
   "cell_type": "code",
   "execution_count": 23,
   "id": "cac06aca",
   "metadata": {},
   "outputs": [
    {
     "name": "stdout",
     "output_type": "stream",
     "text": [
      "['charles', 'martina', 'michael', 'florence']\n"
     ]
    }
   ],
   "source": [
    "players = ['charles', 'martina', 'michael', 'florence', 'eli']\n",
    "print(players[:4])"
   ]
  },
  {
   "cell_type": "code",
   "execution_count": 24,
   "id": "e6b6ae1b",
   "metadata": {},
   "outputs": [
    {
     "name": "stdout",
     "output_type": "stream",
     "text": [
      "['florence', 'eli']\n"
     ]
    }
   ],
   "source": [
    "players = ['charles', 'martina', 'michael', 'florence', 'eli']\n",
    "print(players[3:])"
   ]
  },
  {
   "cell_type": "code",
   "execution_count": 25,
   "id": "5c68e8dc",
   "metadata": {},
   "outputs": [
    {
     "name": "stdout",
     "output_type": "stream",
     "text": [
      "['michael', 'florence', 'eli']\n"
     ]
    }
   ],
   "source": [
    "players = ['charles', 'martina', 'michael', 'florence', 'eli']\n",
    "print(players[-3:])"
   ]
  },
  {
   "cell_type": "markdown",
   "id": "d920cb2d",
   "metadata": {},
   "source": [
    "You can include a third value in the brackets indicating a slice. If a third value is included, this tells Python how many items to skip between items in the specified range"
   ]
  },
  {
   "cell_type": "code",
   "execution_count": 26,
   "id": "263b2bee",
   "metadata": {},
   "outputs": [
    {
     "name": "stdout",
     "output_type": "stream",
     "text": [
      "['charles', 'michael', 'eli']\n"
     ]
    }
   ],
   "source": [
    "players = ['charles', 'martina', 'michael', 'florence', 'eli']\n",
    "print(players[::2])"
   ]
  },
  {
   "cell_type": "markdown",
   "id": "cf37fef7",
   "metadata": {},
   "source": [
    "### 4.4.3 Looping through a slice"
   ]
  },
  {
   "cell_type": "code",
   "execution_count": 27,
   "id": "912a08fa",
   "metadata": {},
   "outputs": [
    {
     "name": "stdout",
     "output_type": "stream",
     "text": [
      "Here are the first three players on my team:\n",
      "Charles\n",
      "Martina\n",
      "Michael\n"
     ]
    }
   ],
   "source": [
    "players = ['charles', 'martina', 'michael', 'florence', 'eli']\n",
    "\n",
    "print(\"Here are the first three players on my team:\")\n",
    "for player in players[:3]:\n",
    "    print(player.title())"
   ]
  },
  {
   "cell_type": "markdown",
   "id": "a7e4bb0c",
   "metadata": {},
   "source": [
    "### 4.4.3 Copy a list"
   ]
  },
  {
   "cell_type": "code",
   "execution_count": 28,
   "id": "df52a20b",
   "metadata": {},
   "outputs": [
    {
     "name": "stdout",
     "output_type": "stream",
     "text": [
      "My favorite foods are:\n",
      "['pizza', 'falafel', 'carrot cake']\n",
      "\n",
      "My friend's favorite foods are:\n",
      "['pizza', 'falafel', 'carrot cake']\n"
     ]
    }
   ],
   "source": [
    "my_foods = ['pizza', 'falafel', 'carrot cake']\n",
    "friend_foods = my_foods[:]\n",
    "\n",
    "print(\"My favorite foods are:\")\n",
    "print(my_foods)\n",
    "\n",
    "print(\"\\nMy friend's favorite foods are:\")\n",
    "print(friend_foods)"
   ]
  },
  {
   "cell_type": "code",
   "execution_count": 29,
   "id": "b1af5980",
   "metadata": {},
   "outputs": [
    {
     "name": "stdout",
     "output_type": "stream",
     "text": [
      "My favorite foods are:\n",
      "['pizza', 'falafel', 'carrot cake', 'cannoli']\n",
      "\n",
      "My friend's favorite foods are:\n",
      "['pizza', 'falafel', 'carrot cake', 'ice cream']\n"
     ]
    }
   ],
   "source": [
    "my_foods = ['pizza', 'falafel', 'carrot cake']\n",
    "friend_foods = my_foods[:]\n",
    "\n",
    "my_foods.append('cannoli')\n",
    "friend_foods.append('ice cream')\n",
    "\n",
    "print(\"My favorite foods are:\")\n",
    "print(my_foods)\n",
    "\n",
    "print(\"\\nMy friend's favorite foods are:\")\n",
    "print(friend_foods)"
   ]
  },
  {
   "cell_type": "code",
   "execution_count": 30,
   "id": "cfe9020a",
   "metadata": {},
   "outputs": [
    {
     "name": "stdout",
     "output_type": "stream",
     "text": [
      "My favorite foods are:\n",
      "['pizza', 'falafel', 'carrot cake', 'cannoli', 'ice cream']\n",
      "\n",
      "My friend's favorite foods are:\n",
      "['pizza', 'falafel', 'carrot cake', 'cannoli', 'ice cream']\n"
     ]
    }
   ],
   "source": [
    "my_foods = ['pizza', 'falafel', 'carrot cake']\n",
    "friend_foods = my_foods\n",
    "\n",
    "my_foods.append('cannoli')\n",
    "friend_foods.append('ice cream')\n",
    "\n",
    "print(\"My favorite foods are:\")\n",
    "print(my_foods)\n",
    "\n",
    "print(\"\\nMy friend's favorite foods are:\")\n",
    "print(friend_foods)"
   ]
  },
  {
   "cell_type": "markdown",
   "id": "f4b62822",
   "metadata": {},
   "source": [
    "If we had simply set friend_foods equal to my_foods, we would not produce two separate lists. "
   ]
  },
  {
   "cell_type": "markdown",
   "id": "84563dd8",
   "metadata": {},
   "source": [
    "### TRY IT YOURSELF\n",
    "\n",
    "- slices.py\n",
    "- my_pizzas_your_pizzas.py\n",
    "- more_loops.py"
   ]
  },
  {
   "cell_type": "markdown",
   "id": "791e72ae",
   "metadata": {},
   "source": [
    "## 4.5 Tuples"
   ]
  },
  {
   "cell_type": "markdown",
   "id": "fce0b48b",
   "metadata": {},
   "source": [
    "### 4.5.1 Defining a tuple"
   ]
  },
  {
   "cell_type": "code",
   "execution_count": 31,
   "id": "f28785ba",
   "metadata": {},
   "outputs": [
    {
     "name": "stdout",
     "output_type": "stream",
     "text": [
      "200\n",
      "50\n"
     ]
    }
   ],
   "source": [
    "dimensions = (200, 50)\n",
    "print(dimensions[0])\n",
    "print(dimensions[1])"
   ]
  },
  {
   "cell_type": "code",
   "execution_count": 32,
   "id": "d1520e4e",
   "metadata": {},
   "outputs": [
    {
     "ename": "TypeError",
     "evalue": "'tuple' object does not support item assignment",
     "output_type": "error",
     "traceback": [
      "\u001b[0;31m---------------------------------------------------------------------------\u001b[0m",
      "\u001b[0;31mTypeError\u001b[0m                                 Traceback (most recent call last)",
      "Input \u001b[0;32mIn [32]\u001b[0m, in \u001b[0;36m<cell line: 2>\u001b[0;34m()\u001b[0m\n\u001b[1;32m      1\u001b[0m dimensions \u001b[38;5;241m=\u001b[39m (\u001b[38;5;241m200\u001b[39m, \u001b[38;5;241m50\u001b[39m)\n\u001b[0;32m----> 2\u001b[0m dimensions[\u001b[38;5;241m0\u001b[39m] \u001b[38;5;241m=\u001b[39m \u001b[38;5;241m250\u001b[39m\n",
      "\u001b[0;31mTypeError\u001b[0m: 'tuple' object does not support item assignment"
     ]
    }
   ],
   "source": [
    "dimensions = (200, 50)\n",
    "dimensions[0] = 250"
   ]
  },
  {
   "cell_type": "code",
   "execution_count": null,
   "id": "9bd11075",
   "metadata": {},
   "outputs": [],
   "source": [
    "my_t = (3,)\n",
    "print(my_t)"
   ]
  },
  {
   "cell_type": "code",
   "execution_count": 33,
   "id": "a2c1ce51",
   "metadata": {},
   "outputs": [
    {
     "name": "stdout",
     "output_type": "stream",
     "text": [
      "3\n"
     ]
    }
   ],
   "source": [
    "my_t = (3)\n",
    "print(my_t)"
   ]
  },
  {
   "cell_type": "markdown",
   "id": "4039eb8f",
   "metadata": {},
   "source": [
    "Tuples are technically defined by the presence of a comma; the parentheses make them look neater and more readable. If you want to define a tuple with one element, you need to include a trailing comma."
   ]
  },
  {
   "cell_type": "markdown",
   "id": "effdfc6c",
   "metadata": {},
   "source": [
    "### 4.5.2 Looping Through all in a tuple"
   ]
  },
  {
   "cell_type": "code",
   "execution_count": 34,
   "id": "148fa511",
   "metadata": {},
   "outputs": [
    {
     "name": "stdout",
     "output_type": "stream",
     "text": [
      "200\n",
      "50\n"
     ]
    }
   ],
   "source": [
    "dimensions = (200, 50)\n",
    "for dimension in dimensions:\n",
    "    print(dimension)"
   ]
  },
  {
   "cell_type": "markdown",
   "id": "634fefe8",
   "metadata": {},
   "source": [
    "### 4.5.3 Writing over a tuple"
   ]
  },
  {
   "cell_type": "code",
   "execution_count": 35,
   "id": "8d57ad37",
   "metadata": {},
   "outputs": [
    {
     "name": "stdout",
     "output_type": "stream",
     "text": [
      "Original dimensions:\n",
      "200\n",
      "50\n",
      "\n",
      "Modified dimensions:\n",
      "400\n",
      "100\n"
     ]
    }
   ],
   "source": [
    "dimensions = (200, 50)\n",
    "print(\"Original dimensions:\")\n",
    "for dimension in dimensions:\n",
    "    print(dimension)\n",
    "    \n",
    "dimensions = (400, 100)\n",
    "print(\"\\nModified dimensions:\")\n",
    "for dimension in dimensions:\n",
    "    print(dimension)"
   ]
  },
  {
   "cell_type": "markdown",
   "id": "0b91d569",
   "metadata": {},
   "source": [
    "### TRY IT YOURSELF\n",
    "\n",
    "- buffet.py"
   ]
  },
  {
   "cell_type": "markdown",
   "id": "e3210488",
   "metadata": {},
   "source": [
    "## 4.6 Styling Your Code"
   ]
  },
  {
   "cell_type": "markdown",
   "id": "c738b968",
   "metadata": {},
   "source": [
    "### 4.6.1 The style guide"
   ]
  },
  {
   "cell_type": "markdown",
   "id": "7d2910b1",
   "metadata": {},
   "source": [
    "### 4.6.2 Indentation"
   ]
  },
  {
   "cell_type": "markdown",
   "id": "eeb068f3",
   "metadata": {},
   "source": [
    "### 4.6.3 Line Length"
   ]
  },
  {
   "cell_type": "markdown",
   "id": "06942c05",
   "metadata": {},
   "source": [
    "### 4.6.4 Blank Lines"
   ]
  },
  {
   "cell_type": "markdown",
   "id": "3ef3a0ae",
   "metadata": {},
   "source": [
    "### 4.6.5 Other style guideline"
   ]
  },
  {
   "cell_type": "markdown",
   "id": "3631185a",
   "metadata": {},
   "source": [
    "### TRY IT YOURSELF\n",
    "\n",
    "[PEP 8](https://peps.python.org/pep-0008/)\n"
   ]
  },
  {
   "cell_type": "markdown",
   "id": "e8ec7ecd",
   "metadata": {},
   "source": [
    "## 4.7 Summary"
   ]
  }
 ],
 "metadata": {
  "kernelspec": {
   "display_name": "Python 3 (ipykernel)",
   "language": "python",
   "name": "python3"
  },
  "language_info": {
   "codemirror_mode": {
    "name": "ipython",
    "version": 3
   },
   "file_extension": ".py",
   "mimetype": "text/x-python",
   "name": "python",
   "nbconvert_exporter": "python",
   "pygments_lexer": "ipython3",
   "version": "3.8.13"
  }
 },
 "nbformat": 4,
 "nbformat_minor": 5
}
