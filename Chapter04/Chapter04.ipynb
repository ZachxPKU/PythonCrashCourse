{
 "cells": [
  {
   "cell_type": "markdown",
   "id": "b551c9e5",
   "metadata": {},
   "source": [
    "# Chapter 4 Working with lists"
   ]
  },
  {
   "cell_type": "markdown",
   "id": "e5d5e04e",
   "metadata": {},
   "source": [
    "## 4.1 Looping through an entire list"
   ]
  },
  {
   "cell_type": "code",
   "execution_count": 1,
   "id": "63fa9b17",
   "metadata": {},
   "outputs": [
    {
     "name": "stdout",
     "output_type": "stream",
     "text": [
      "alice\n",
      "david\n",
      "carolina\n"
     ]
    }
   ],
   "source": [
    "magicians = ['alice', 'david', 'carolina']\n",
    "for magician in magicians:\n",
    "    print(magician)"
   ]
  },
  {
   "cell_type": "markdown",
   "id": "3ae888ec",
   "metadata": {},
   "source": [
    "### 4.1.1 A closer look at looping"
   ]
  },
  {
   "cell_type": "markdown",
   "id": "aea7d480",
   "metadata": {},
   "source": [
    "### 4.1.2 Doing more work within a for loop"
   ]
  },
  {
   "cell_type": "code",
   "execution_count": 2,
   "id": "8510f314",
   "metadata": {},
   "outputs": [
    {
     "name": "stdout",
     "output_type": "stream",
     "text": [
      "Alice, that was a great trick!\n",
      "David, that was a great trick!\n",
      "Carolina, that was a great trick!\n"
     ]
    }
   ],
   "source": [
    "magicians = ['alice', 'david', 'carolina']\n",
    "for magician in magicians:\n",
    "    print(f\"{magician.title()}, that was a great trick!\")"
   ]
  },
  {
   "cell_type": "code",
   "execution_count": 3,
   "id": "c1339a21",
   "metadata": {},
   "outputs": [
    {
     "name": "stdout",
     "output_type": "stream",
     "text": [
      "Alice, that was a great trick!\n",
      "I can't wait to see your next trick, Alice.\n",
      "\n",
      "David, that was a great trick!\n",
      "I can't wait to see your next trick, David.\n",
      "\n",
      "Carolina, that was a great trick!\n",
      "I can't wait to see your next trick, Carolina.\n",
      "\n"
     ]
    }
   ],
   "source": [
    "magicians = ['alice', 'david', 'carolina']\n",
    "for magician in magicians:\n",
    "    print(f\"{magician.title()}, that was a great trick!\")\n",
    "    print(f\"I can't wait to see your next trick, {magician.title()}.\\n\")"
   ]
  },
  {
   "cell_type": "markdown",
   "id": "272c1394",
   "metadata": {},
   "source": [
    "### 4.1.3 Doing something after a for loop"
   ]
  },
  {
   "cell_type": "code",
   "execution_count": 4,
   "id": "56a4352e",
   "metadata": {},
   "outputs": [
    {
     "name": "stdout",
     "output_type": "stream",
     "text": [
      "Alice, that was a great trick!\n",
      "I can't wait to see your next trick, Alice.\n",
      "\n",
      "David, that was a great trick!\n",
      "I can't wait to see your next trick, David.\n",
      "\n",
      "Carolina, that was a great trick!\n",
      "I can't wait to see your next trick, Carolina.\n",
      "\n",
      "Thank you, everyone. That was a great magic show!\n"
     ]
    }
   ],
   "source": [
    "magicians = ['alice', 'david', 'carolina']\n",
    "for magician in magicians:\n",
    "    print(f\"{magician.title()}, that was a great trick!\")\n",
    "    print(f\"I can't wait to see your next trick, {magician.title()}.\\n\")\n",
    "\n",
    "print(\"Thank you, everyone. That was a great magic show!\")"
   ]
  },
  {
   "cell_type": "markdown",
   "id": "e10d9761",
   "metadata": {},
   "source": [
    "## 4.2 Avoiding Indentation Errors"
   ]
  },
  {
   "cell_type": "markdown",
   "id": "8fbd02ad",
   "metadata": {},
   "source": [
    "### 4.2.1 Forgetting to indent"
   ]
  },
  {
   "cell_type": "code",
   "execution_count": 5,
   "id": "939780a1",
   "metadata": {},
   "outputs": [
    {
     "ename": "IndentationError",
     "evalue": "expected an indented block (2510761304.py, line 3)",
     "output_type": "error",
     "traceback": [
      "\u001b[0;36m  Input \u001b[0;32mIn [5]\u001b[0;36m\u001b[0m\n\u001b[0;31m    print(magician)\u001b[0m\n\u001b[0m    ^\u001b[0m\n\u001b[0;31mIndentationError\u001b[0m\u001b[0;31m:\u001b[0m expected an indented block\n"
     ]
    }
   ],
   "source": [
    "magicians = ['alice', 'david', 'carolina']\n",
    "for magician in magicians:\n",
    "print(magician)"
   ]
  },
  {
   "cell_type": "markdown",
   "id": "64aa2629",
   "metadata": {},
   "source": [
    "### 4.2.2 Forgetting to indent additional lines"
   ]
  },
  {
   "cell_type": "code",
   "execution_count": null,
   "id": "b8169c8d",
   "metadata": {},
   "outputs": [],
   "source": [
    "magicians = ['alice', 'david', 'carolina']\n",
    "for magician in magicians:\n",
    "    print(f\"{magician.title()}, that was a great trick!\")\n",
    "print(f\"I can't wait to see your next trick, {magician.title()}.\\n\")"
   ]
  },
  {
   "cell_type": "markdown",
   "id": "8da6d1a2",
   "metadata": {},
   "source": [
    "### 4.2.3 Indenting unnecessarily"
   ]
  },
  {
   "cell_type": "code",
   "execution_count": null,
   "id": "e2e2391f",
   "metadata": {},
   "outputs": [],
   "source": [
    "message = \"Hello Python world!\"\n",
    "    print(message)"
   ]
  },
  {
   "cell_type": "markdown",
   "id": "876d70bf",
   "metadata": {},
   "source": [
    "### 4.2.4 Indenting unnecessarily after the loop"
   ]
  },
  {
   "cell_type": "code",
   "execution_count": null,
   "id": "40932449",
   "metadata": {},
   "outputs": [],
   "source": [
    "magicians = ['alice', 'david', 'carolina']\n",
    "for magician in magicians:\n",
    "    print(f\"{magician.title()}, that was a great trick!\")\n",
    "    print(f\"I can't wait to see your next trick, {magician.title()}.\\n\")\n",
    "\n",
    "    print(\"Thank you, everyone. That was a great magic show!\")"
   ]
  },
  {
   "cell_type": "markdown",
   "id": "266929ae",
   "metadata": {},
   "source": [
    "### 4.2.5 Forgetting the colon"
   ]
  },
  {
   "cell_type": "code",
   "execution_count": null,
   "id": "7ab1ea31",
   "metadata": {},
   "outputs": [],
   "source": [
    "magicians = ['alice', 'david', 'carolina']\n",
    "for magician in magicians\n",
    "    print(magician)"
   ]
  },
  {
   "cell_type": "markdown",
   "id": "4ea530d4",
   "metadata": {},
   "source": [
    "### TRY IT YOURSELF\n",
    "\n",
    "- pizzas.py\n",
    "- animals.py"
   ]
  },
  {
   "cell_type": "markdown",
   "id": "813d6a2c",
   "metadata": {},
   "source": [
    "## 4.3 Making Numerical Lists"
   ]
  },
  {
   "cell_type": "markdown",
   "id": "3014dab9",
   "metadata": {},
   "source": [
    "### 4.3.1 Using the range() function"
   ]
  },
  {
   "cell_type": "code",
   "execution_count": null,
   "id": "06106fdc",
   "metadata": {},
   "outputs": [],
   "source": [
    "for value in range(1, 5):\n",
    "    print(value)"
   ]
  },
  {
   "cell_type": "code",
   "execution_count": null,
   "id": "6d0db945",
   "metadata": {},
   "outputs": [],
   "source": [
    "for value in range(1, 6):\n",
    "    print(value)"
   ]
  },
  {
   "cell_type": "code",
   "execution_count": null,
   "id": "912bd9f8",
   "metadata": {},
   "outputs": [],
   "source": [
    "for value in range(6):\n",
    "    print(value)"
   ]
  },
  {
   "cell_type": "markdown",
   "id": "47a490bc",
   "metadata": {},
   "source": [
    "### 4.3.2 Using range() to make a list of numbers"
   ]
  },
  {
   "cell_type": "code",
   "execution_count": null,
   "id": "163309c0",
   "metadata": {},
   "outputs": [],
   "source": [
    "numbers = list(range(1,6))\n",
    "print(numbers)"
   ]
  },
  {
   "cell_type": "code",
   "execution_count": null,
   "id": "4112e079",
   "metadata": {},
   "outputs": [],
   "source": [
    "even_numbers = list(range(2, 11, 2))\n",
    "print(even_numbers)"
   ]
  },
  {
   "cell_type": "code",
   "execution_count": null,
   "id": "f53bc06f",
   "metadata": {},
   "outputs": [],
   "source": [
    "squares = []\n",
    "for value in range(1, 11):\n",
    "    square = value ** 2\n",
    "    squares.append(square)\n",
    "    \n",
    "print(squares)"
   ]
  },
  {
   "cell_type": "code",
   "execution_count": null,
   "id": "326a2ab2",
   "metadata": {},
   "outputs": [],
   "source": [
    "squares = []\n",
    "for value in range(1, 11):\n",
    "    squares.append(value ** 2)\n",
    "    \n",
    "print(squares)"
   ]
  },
  {
   "cell_type": "markdown",
   "id": "e4ddf046",
   "metadata": {},
   "source": [
    "### 4.3.3 Simple statistics with a list of numbers"
   ]
  },
  {
   "cell_type": "code",
   "execution_count": null,
   "id": "c6efd063",
   "metadata": {},
   "outputs": [],
   "source": [
    "digits = list(range(0, 10))\n",
    "min(digits)"
   ]
  },
  {
   "cell_type": "code",
   "execution_count": null,
   "id": "b8cfb912",
   "metadata": {},
   "outputs": [],
   "source": [
    "max(digits)"
   ]
  },
  {
   "cell_type": "code",
   "execution_count": null,
   "id": "777f8f3f",
   "metadata": {},
   "outputs": [],
   "source": [
    "sum(digits)"
   ]
  },
  {
   "cell_type": "markdown",
   "id": "f1edec7d",
   "metadata": {},
   "source": [
    "### 4.3.4 List comprehensions"
   ]
  },
  {
   "cell_type": "code",
   "execution_count": null,
   "id": "9a4d8063",
   "metadata": {},
   "outputs": [],
   "source": [
    "squares = [value ** 2 for value in range(1, 11)]\n",
    "print(squares)"
   ]
  },
  {
   "cell_type": "markdown",
   "id": "23a28f12",
   "metadata": {},
   "source": [
    "### TRY IT YOURSELF\n",
    "\n",
    "- counting_to_twenty.py\n",
    "- one_million.py\n",
    "- summing_a_million.py\n",
    "- odd_numbers.py\n",
    "- threes.py\n",
    "- cube.py\n",
    "- cube_comprehension.py"
   ]
  },
  {
   "cell_type": "markdown",
   "id": "0529f567",
   "metadata": {},
   "source": [
    "## 4.4 Working with part of a list"
   ]
  },
  {
   "cell_type": "markdown",
   "id": "93167d41",
   "metadata": {},
   "source": [
    "### 4.4.1 Slicing a list"
   ]
  },
  {
   "cell_type": "code",
   "execution_count": null,
   "id": "ece9168b",
   "metadata": {},
   "outputs": [],
   "source": [
    "players = ['charles', 'martina', 'michael', 'florence', 'eli']\n",
    "print(players[0:3])"
   ]
  },
  {
   "cell_type": "code",
   "execution_count": null,
   "id": "6c63e5d9",
   "metadata": {},
   "outputs": [],
   "source": [
    "players = ['charles', 'martina', 'michael', 'florence', 'eli']\n",
    "print(players[1:4])"
   ]
  },
  {
   "cell_type": "code",
   "execution_count": null,
   "id": "a7fcd6e5",
   "metadata": {},
   "outputs": [],
   "source": [
    "players = ['charles', 'martina', 'michael', 'florence', 'eli']\n",
    "print(players[:4])"
   ]
  },
  {
   "cell_type": "code",
   "execution_count": null,
   "id": "2f6f3a69",
   "metadata": {},
   "outputs": [],
   "source": [
    "players = ['charles', 'martina', 'michael', 'florence', 'eli']\n",
    "print(players[3:])"
   ]
  },
  {
   "cell_type": "code",
   "execution_count": null,
   "id": "f241d811",
   "metadata": {},
   "outputs": [],
   "source": [
    "players = ['charles', 'martina', 'michael', 'florence', 'eli']\n",
    "print(players[-3:])"
   ]
  },
  {
   "cell_type": "markdown",
   "id": "61cecc68",
   "metadata": {},
   "source": [
    "You can include a third value in the brackets indicating a slice. If a third value is included, this tells Python how many items to skip between items in the specified range"
   ]
  },
  {
   "cell_type": "code",
   "execution_count": null,
   "id": "da599ae7",
   "metadata": {},
   "outputs": [],
   "source": [
    "players = ['charles', 'martina', 'michael', 'florence', 'eli']\n",
    "print(players[::2])"
   ]
  },
  {
   "cell_type": "markdown",
   "id": "a0a9073c",
   "metadata": {},
   "source": [
    "### 4.4.3 Looping through a slice"
   ]
  },
  {
   "cell_type": "code",
   "execution_count": null,
   "id": "9e9b9cd9",
   "metadata": {},
   "outputs": [],
   "source": [
    "players = ['charles', 'martina', 'michael', 'florence', 'eli']\n",
    "\n",
    "print(\"Here are the first three players on my team:\")\n",
    "for player in players[:3]:\n",
    "    print(player.title())"
   ]
  },
  {
   "cell_type": "markdown",
   "id": "da65c68c",
   "metadata": {},
   "source": [
    "### 4.4.3 Copy a list"
   ]
  },
  {
   "cell_type": "code",
   "execution_count": null,
   "id": "2e390c7e",
   "metadata": {},
   "outputs": [],
   "source": [
    "my_foods = ['pizza', 'falafel', 'carrot cake']\n",
    "friend_foods = my_foods[:]\n",
    "\n",
    "print(\"My favorite foods are:\")\n",
    "print(my_foods)\n",
    "\n",
    "print(\"\\nMy friend's favorite foods are:\")\n",
    "print(friend_foods)"
   ]
  },
  {
   "cell_type": "code",
   "execution_count": null,
   "id": "976ff253",
   "metadata": {},
   "outputs": [],
   "source": [
    "my_foods = ['pizza', 'falafel', 'carrot cake']\n",
    "friend_foods = my_foods[:]\n",
    "\n",
    "my_foods.append('cannoli')\n",
    "friend_foods.append('ice cream')\n",
    "\n",
    "print(\"My favorite foods are:\")\n",
    "print(my_foods)\n",
    "\n",
    "print(\"\\nMy friend's favorite foods are:\")\n",
    "print(friend_foods)"
   ]
  },
  {
   "cell_type": "code",
   "execution_count": null,
   "id": "37428220",
   "metadata": {},
   "outputs": [],
   "source": [
    "my_foods = ['pizza', 'falafel', 'carrot cake']\n",
    "friend_foods = my_foods\n",
    "\n",
    "my_foods.append('cannoli')\n",
    "friend_foods.append('ice cream')\n",
    "\n",
    "print(\"My favorite foods are:\")\n",
    "print(my_foods)\n",
    "\n",
    "print(\"\\nMy friend's favorite foods are:\")\n",
    "print(friend_foods)"
   ]
  },
  {
   "cell_type": "markdown",
   "id": "343ef2b6",
   "metadata": {},
   "source": [
    "If we had simply set friend_foods equal to my_foods, we would not produce two separate lists. "
   ]
  },
  {
   "cell_type": "markdown",
   "id": "da5bd276",
   "metadata": {},
   "source": [
    "### TRY IT YOURSELF\n",
    "\n",
    "- slices.py\n",
    "- my_pizzas_your_pizzas.py\n",
    "- more_loops.py"
   ]
  },
  {
   "cell_type": "markdown",
   "id": "1d0c3b6d",
   "metadata": {},
   "source": [
    "## 4.5 Tuples"
   ]
  },
  {
   "cell_type": "markdown",
   "id": "53fb5119",
   "metadata": {},
   "source": [
    "### 4.5.1 Defining a tuple"
   ]
  },
  {
   "cell_type": "code",
   "execution_count": null,
   "id": "bb1ec864",
   "metadata": {},
   "outputs": [],
   "source": [
    "dimensions = (200, 50)\n",
    "print(dimensions[0])\n",
    "print(dimensions[1])"
   ]
  },
  {
   "cell_type": "code",
   "execution_count": null,
   "id": "eb7030c9",
   "metadata": {},
   "outputs": [],
   "source": [
    "dimensions = (200, 50)\n",
    "dimensions[0] = 250"
   ]
  },
  {
   "cell_type": "code",
   "execution_count": null,
   "id": "4eae0400",
   "metadata": {},
   "outputs": [],
   "source": [
    "my_t = (3,)\n",
    "print(my_t)"
   ]
  },
  {
   "cell_type": "code",
   "execution_count": null,
   "id": "e925e352",
   "metadata": {},
   "outputs": [],
   "source": [
    "my_t = (3)\n",
    "print(my_t)"
   ]
  },
  {
   "cell_type": "markdown",
   "id": "c4b91c5e",
   "metadata": {},
   "source": [
    "Tuples are technically defined by the presence of a comma; the parentheses make them look neater and more readable. If you want to define a tuple with one element, you need to include a trailing comma."
   ]
  },
  {
   "cell_type": "markdown",
   "id": "d007c1db",
   "metadata": {},
   "source": [
    "### 4.5.2 Looping Through all in a tuple"
   ]
  },
  {
   "cell_type": "code",
   "execution_count": null,
   "id": "e5b4e88a",
   "metadata": {},
   "outputs": [],
   "source": [
    "dimensions = (200, 50)\n",
    "for dimension in dimensions:\n",
    "    print(dimension)"
   ]
  },
  {
   "cell_type": "markdown",
   "id": "0b382b0c",
   "metadata": {},
   "source": [
    "### 4.5.3 Writing over a tuple"
   ]
  },
  {
   "cell_type": "code",
   "execution_count": null,
   "id": "b30ab2b2",
   "metadata": {},
   "outputs": [],
   "source": [
    "dimensions = (200, 50)\n",
    "print(\"Original dimensions:\")\n",
    "for dimension in dimensions:\n",
    "    print(dimension)\n",
    "    \n",
    "dimensions = (400, 100)\n",
    "print(\"\\nModified dimensions:\")\n",
    "for dimension in dimensions:\n",
    "    print(dimension)"
   ]
  },
  {
   "cell_type": "markdown",
   "id": "01e93a69",
   "metadata": {},
   "source": [
    "### TRY IT YOURSELF\n",
    "\n",
    "- buffet.py"
   ]
  },
  {
   "cell_type": "markdown",
   "id": "01dd2b7e",
   "metadata": {},
   "source": [
    "## 4.6 Styling Your Code"
   ]
  },
  {
   "cell_type": "markdown",
   "id": "37ce0357",
   "metadata": {},
   "source": [
    "### 4.6.1 The style guide"
   ]
  },
  {
   "cell_type": "markdown",
   "id": "adbce71c",
   "metadata": {},
   "source": [
    "### 4.6.2 Indentation"
   ]
  },
  {
   "cell_type": "markdown",
   "id": "86ba8844",
   "metadata": {},
   "source": [
    "### 4.6.3 Line Length"
   ]
  },
  {
   "cell_type": "markdown",
   "id": "8ef4881f",
   "metadata": {},
   "source": [
    "### 4.6.4 Blank Lines"
   ]
  },
  {
   "cell_type": "markdown",
   "id": "cc56fba2",
   "metadata": {},
   "source": [
    "### 4.6.5 Other style guideline"
   ]
  },
  {
   "cell_type": "markdown",
   "id": "5214ec96",
   "metadata": {},
   "source": [
    "### TRY IT YOURSELF\n",
    "\n",
    "[PEP 8](https://peps.python.org/pep-0008/)\n"
   ]
  },
  {
   "cell_type": "markdown",
   "id": "9620d0d0",
   "metadata": {},
   "source": [
    "## 4.7 Summary"
   ]
  },
  {
   "cell_type": "code",
   "execution_count": null,
   "id": "14a457b7",
   "metadata": {},
   "outputs": [],
   "source": []
  }
 ],
 "metadata": {
  "kernelspec": {
   "display_name": "Python 3 (ipykernel)",
   "language": "python",
   "name": "python3"
  },
  "language_info": {
   "codemirror_mode": {
    "name": "ipython",
    "version": 3
   },
   "file_extension": ".py",
   "mimetype": "text/x-python",
   "name": "python",
   "nbconvert_exporter": "python",
   "pygments_lexer": "ipython3",
   "version": "3.8.13"
  }
 },
 "nbformat": 4,
 "nbformat_minor": 5
}
