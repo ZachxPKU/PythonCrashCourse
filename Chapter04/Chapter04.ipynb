{
 "cells": [
  {
   "cell_type": "markdown",
   "id": "6ea2ac16",
   "metadata": {},
   "source": [
    "# Chapter 4 Working with lists"
   ]
  },
  {
   "cell_type": "markdown",
   "id": "292cc7f1",
   "metadata": {},
   "source": [
    "## 4.1 Looping through an entire list"
   ]
  },
  {
   "cell_type": "code",
   "execution_count": 1,
   "id": "d45ed71f",
   "metadata": {},
   "outputs": [
    {
     "name": "stdout",
     "output_type": "stream",
     "text": [
      "alice\n",
      "david\n",
      "carolina\n"
     ]
    }
   ],
   "source": [
    "magicians = ['alice', 'david', 'carolina']\n",
    "for magician in magicians:\n",
    "    print(magician)"
   ]
  },
  {
   "cell_type": "markdown",
   "id": "bf7e55ef",
   "metadata": {},
   "source": [
    "### 4.1.1 A closer look at looping"
   ]
  },
  {
   "cell_type": "markdown",
   "id": "35ad508b",
   "metadata": {},
   "source": [
    "### 4.1.2 Doing more work within a for loop"
   ]
  },
  {
   "cell_type": "code",
   "execution_count": 2,
   "id": "2592556b",
   "metadata": {},
   "outputs": [
    {
     "name": "stdout",
     "output_type": "stream",
     "text": [
      "Alice, that was a great trick!\n",
      "David, that was a great trick!\n",
      "Carolina, that was a great trick!\n"
     ]
    }
   ],
   "source": [
    "magicians = ['alice', 'david', 'carolina']\n",
    "for magician in magicians:\n",
    "    print(f\"{magician.title()}, that was a great trick!\")"
   ]
  },
  {
   "cell_type": "code",
   "execution_count": 3,
   "id": "1835d047",
   "metadata": {},
   "outputs": [
    {
     "name": "stdout",
     "output_type": "stream",
     "text": [
      "Alice, that was a great trick!\n",
      "I can't wait to see your next trick, Alice.\n",
      "\n",
      "David, that was a great trick!\n",
      "I can't wait to see your next trick, David.\n",
      "\n",
      "Carolina, that was a great trick!\n",
      "I can't wait to see your next trick, Carolina.\n",
      "\n"
     ]
    }
   ],
   "source": [
    "magicians = ['alice', 'david', 'carolina']\n",
    "for magician in magicians:\n",
    "    print(f\"{magician.title()}, that was a great trick!\")\n",
    "    print(f\"I can't wait to see your next trick, {magician.title()}.\\n\")"
   ]
  },
  {
   "cell_type": "markdown",
   "id": "dfdcdd1f",
   "metadata": {},
   "source": [
    "### 4.1.3 Doing something after a for loop"
   ]
  },
  {
   "cell_type": "code",
   "execution_count": 4,
   "id": "ecf47cb2",
   "metadata": {},
   "outputs": [
    {
     "name": "stdout",
     "output_type": "stream",
     "text": [
      "Alice, that was a great trick!\n",
      "I can't wait to see your next trick, Alice.\n",
      "\n",
      "David, that was a great trick!\n",
      "I can't wait to see your next trick, David.\n",
      "\n",
      "Carolina, that was a great trick!\n",
      "I can't wait to see your next trick, Carolina.\n",
      "\n",
      "Thank you, everyone. That was a great magic show!\n"
     ]
    }
   ],
   "source": [
    "magicians = ['alice', 'david', 'carolina']\n",
    "for magician in magicians:\n",
    "    print(f\"{magician.title()}, that was a great trick!\")\n",
    "    print(f\"I can't wait to see your next trick, {magician.title()}.\\n\")\n",
    "\n",
    "print(\"Thank you, everyone. That was a great magic show!\")"
   ]
  },
  {
   "cell_type": "markdown",
   "id": "f458cb99",
   "metadata": {},
   "source": [
    "## 4.2 Avoiding Indentation Errors"
   ]
  },
  {
   "cell_type": "markdown",
   "id": "688cc45c",
   "metadata": {},
   "source": [
    "### 4.2.1 Forgetting to indent"
   ]
  },
  {
   "cell_type": "code",
   "execution_count": 5,
   "id": "0607b560",
   "metadata": {},
   "outputs": [
    {
     "ename": "IndentationError",
     "evalue": "expected an indented block (2510761304.py, line 3)",
     "output_type": "error",
     "traceback": [
      "\u001b[0;36m  Input \u001b[0;32mIn [5]\u001b[0;36m\u001b[0m\n\u001b[0;31m    print(magician)\u001b[0m\n\u001b[0m    ^\u001b[0m\n\u001b[0;31mIndentationError\u001b[0m\u001b[0;31m:\u001b[0m expected an indented block\n"
     ]
    }
   ],
   "source": [
    "magicians = ['alice', 'david', 'carolina']\n",
    "for magician in magicians:\n",
    "print(magician)"
   ]
  },
  {
   "cell_type": "markdown",
   "id": "4e22f35b",
   "metadata": {},
   "source": [
    "### 4.2.2 Forgetting to indent additional lines"
   ]
  },
  {
   "cell_type": "code",
   "execution_count": 6,
   "id": "5cef83c8",
   "metadata": {},
   "outputs": [
    {
     "name": "stdout",
     "output_type": "stream",
     "text": [
      "Alice, that was a great trick!\n",
      "David, that was a great trick!\n",
      "Carolina, that was a great trick!\n",
      "I can't wait to see your next trick, Carolina.\n",
      "\n"
     ]
    }
   ],
   "source": [
    "magicians = ['alice', 'david', 'carolina']\n",
    "for magician in magicians:\n",
    "    print(f\"{magician.title()}, that was a great trick!\")\n",
    "print(f\"I can't wait to see your next trick, {magician.title()}.\\n\")"
   ]
  },
  {
   "cell_type": "markdown",
   "id": "7d4672c7",
   "metadata": {},
   "source": [
    "### 4.2.3 Indenting unnecessarily"
   ]
  },
  {
   "cell_type": "code",
   "execution_count": 7,
   "id": "7e0ac686",
   "metadata": {},
   "outputs": [
    {
     "ename": "IndentationError",
     "evalue": "unexpected indent (2495908521.py, line 2)",
     "output_type": "error",
     "traceback": [
      "\u001b[0;36m  Input \u001b[0;32mIn [7]\u001b[0;36m\u001b[0m\n\u001b[0;31m    print(message)\u001b[0m\n\u001b[0m    ^\u001b[0m\n\u001b[0;31mIndentationError\u001b[0m\u001b[0;31m:\u001b[0m unexpected indent\n"
     ]
    }
   ],
   "source": [
    "message = \"Hello Python world!\"\n",
    "    print(message)"
   ]
  },
  {
   "cell_type": "markdown",
   "id": "75330759",
   "metadata": {},
   "source": [
    "### 4.2.4 Indenting unnecessarily after the loop"
   ]
  },
  {
   "cell_type": "code",
   "execution_count": 8,
   "id": "13f38d28",
   "metadata": {},
   "outputs": [
    {
     "name": "stdout",
     "output_type": "stream",
     "text": [
      "Alice, that was a great trick!\n",
      "I can't wait to see your next trick, Alice.\n",
      "\n",
      "Thank you, everyone. That was a great magic show!\n",
      "David, that was a great trick!\n",
      "I can't wait to see your next trick, David.\n",
      "\n",
      "Thank you, everyone. That was a great magic show!\n",
      "Carolina, that was a great trick!\n",
      "I can't wait to see your next trick, Carolina.\n",
      "\n",
      "Thank you, everyone. That was a great magic show!\n"
     ]
    }
   ],
   "source": [
    "magicians = ['alice', 'david', 'carolina']\n",
    "for magician in magicians:\n",
    "    print(f\"{magician.title()}, that was a great trick!\")\n",
    "    print(f\"I can't wait to see your next trick, {magician.title()}.\\n\")\n",
    "\n",
    "    print(\"Thank you, everyone. That was a great magic show!\")"
   ]
  },
  {
   "cell_type": "markdown",
   "id": "466340ca",
   "metadata": {},
   "source": [
    "### 4.2.5 Forgetting the colon"
   ]
  },
  {
   "cell_type": "code",
   "execution_count": 9,
   "id": "cef9ea88",
   "metadata": {},
   "outputs": [
    {
     "ename": "SyntaxError",
     "evalue": "invalid syntax (518316207.py, line 2)",
     "output_type": "error",
     "traceback": [
      "\u001b[0;36m  Input \u001b[0;32mIn [9]\u001b[0;36m\u001b[0m\n\u001b[0;31m    for magician in magicians\u001b[0m\n\u001b[0m                             ^\u001b[0m\n\u001b[0;31mSyntaxError\u001b[0m\u001b[0;31m:\u001b[0m invalid syntax\n"
     ]
    }
   ],
   "source": [
    "magicians = ['alice', 'david', 'carolina']\n",
    "for magician in magicians\n",
    "    print(magician)"
   ]
  },
  {
   "cell_type": "markdown",
   "id": "8746ab22",
   "metadata": {},
   "source": [
    "### TRY IT YOURSELF\n",
    "\n"
   ]
  }
 ],
 "metadata": {
  "kernelspec": {
   "display_name": "Python 3 (ipykernel)",
   "language": "python",
   "name": "python3"
  },
  "language_info": {
   "codemirror_mode": {
    "name": "ipython",
    "version": 3
   },
   "file_extension": ".py",
   "mimetype": "text/x-python",
   "name": "python",
   "nbconvert_exporter": "python",
   "pygments_lexer": "ipython3",
   "version": "3.8.13"
  }
 },
 "nbformat": 4,
 "nbformat_minor": 5
}
