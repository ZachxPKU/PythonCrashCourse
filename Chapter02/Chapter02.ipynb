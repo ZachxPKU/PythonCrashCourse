{
 "cells": [
  {
   "cell_type": "markdown",
   "id": "0c9259d2",
   "metadata": {},
   "source": [
    "# Chapter 2 Variables and simple data types"
   ]
  },
  {
   "cell_type": "markdown",
   "id": "3e38e6e2",
   "metadata": {},
   "source": [
    "## 2.1 What Really Happens When You Run hello_world.py"
   ]
  },
  {
   "cell_type": "code",
   "execution_count": 1,
   "id": "aed973f6",
   "metadata": {},
   "outputs": [
    {
     "name": "stdout",
     "output_type": "stream",
     "text": [
      "Hello Python world!\n"
     ]
    }
   ],
   "source": [
    "print(\"Hello Python world!\")"
   ]
  },
  {
   "cell_type": "markdown",
   "id": "8f163e0c",
   "metadata": {},
   "source": [
    "## 2.2 Variables"
   ]
  },
  {
   "cell_type": "code",
   "execution_count": 2,
   "id": "00cae023",
   "metadata": {},
   "outputs": [
    {
     "name": "stdout",
     "output_type": "stream",
     "text": [
      "Hello Python world!\n"
     ]
    }
   ],
   "source": [
    "message = \"Hello Python world!\"\n",
    "print(message)"
   ]
  },
  {
   "cell_type": "code",
   "execution_count": 3,
   "id": "31f4c517",
   "metadata": {},
   "outputs": [
    {
     "name": "stdout",
     "output_type": "stream",
     "text": [
      "Hello Python world!\n",
      "Hello Python Crash Course world!\n"
     ]
    }
   ],
   "source": [
    "message = \"Hello Python world!\"\n",
    "print(message)\n",
    "\n",
    "message = \"Hello Python Crash Course world!\"\n",
    "print(message)"
   ]
  },
  {
   "cell_type": "markdown",
   "id": "15ecd3ec",
   "metadata": {},
   "source": [
    "### 2.2.1 Naming and Using Variables\n",
    "\n",
    "- Variable names can contain only letters, numbers, and underscores. They can start with a letter or an underscore, but not with a number. For instance, you can call a variable message_1 but not 1_message.\n",
    "- Spaces are not allowed in variable names, but underscores can be used to separate words in variable names. For example, greeting_message works, but greeting message will cause errors.\n",
    "- Avoid using Python keywords and function names as variable names; that is, do not use words that Python has reserved for a particular programmatic purpose, such as the word print. \n",
    "- Variable names should be short but descriptive. For example, name is better than n, student_name is better than s_n, and name_length is better than length_of_persons_name.\n",
    "- Be careful when using the lowercase letter l and the uppercase letter O because they could be confused with the numbers 1 and 0."
   ]
  },
  {
   "cell_type": "markdown",
   "id": "271a5403",
   "metadata": {},
   "source": [
    "### 2.2.2 Avoiding Name Errors When Using Variables"
   ]
  },
  {
   "cell_type": "code",
   "execution_count": 4,
   "id": "25c56fb1",
   "metadata": {},
   "outputs": [
    {
     "ename": "NameError",
     "evalue": "name 'mesage' is not defined",
     "output_type": "error",
     "traceback": [
      "\u001B[0;31m---------------------------------------------------------------------------\u001B[0m",
      "\u001B[0;31mNameError\u001B[0m                                 Traceback (most recent call last)",
      "Input \u001B[0;32mIn [4]\u001B[0m, in \u001B[0;36m<cell line: 2>\u001B[0;34m()\u001B[0m\n\u001B[1;32m      1\u001B[0m message \u001B[38;5;241m=\u001B[39m \u001B[38;5;124m\"\u001B[39m\u001B[38;5;124mHello Python Crash Course world!\u001B[39m\u001B[38;5;124m\"\u001B[39m\n\u001B[0;32m----> 2\u001B[0m \u001B[38;5;28mprint\u001B[39m(\u001B[43mmesage\u001B[49m)\n",
      "\u001B[0;31mNameError\u001B[0m: name 'mesage' is not defined"
     ]
    }
   ],
   "source": [
    "message = \"Hello Python Crash Course world!\"\n",
    "print(mesage)"
   ]
  },
  {
   "cell_type": "markdown",
   "id": "05876027",
   "metadata": {},
   "source": [
    "A name error usually means we either forgot to set a variable’s value before using it, or\n",
    "we made a spelling mistake when entering the variable’s name."
   ]
  },
  {
   "cell_type": "code",
   "execution_count": 5,
   "id": "a43f1ac0",
   "metadata": {},
   "outputs": [
    {
     "name": "stdout",
     "output_type": "stream",
     "text": [
      "Hello Python Crash Course world!\n"
     ]
    }
   ],
   "source": [
    "mesage = \"Hello Python Crash Course world!\"\n",
    "print(mesage)"
   ]
  },
  {
   "cell_type": "markdown",
   "id": "7cf51c6b",
   "metadata": {},
   "source": [
    "### 2.2.3 Variables Are Labels"
   ]
  },
  {
   "cell_type": "markdown",
   "id": "a67947f3",
   "metadata": {},
   "source": [
    "### TRY IT YOURSELF\n",
    "\n",
    "- simple_message.py\n",
    "- simple_messages.py"
   ]
  },
  {
   "cell_type": "markdown",
   "id": "3e6f2cc1",
   "metadata": {},
   "source": [
    "## 2.3 Strings"
   ]
  },
  {
   "cell_type": "markdown",
   "id": "68461fe9",
   "metadata": {},
   "source": [
    "\"This is a string.\"\n",
    "\n",
    "'This is also a string.'"
   ]
  },
  {
   "cell_type": "markdown",
   "id": "e93f3ae9",
   "metadata": {},
   "source": [
    "'I told my friend, \"Python is my favorite language!\"'\n",
    "\n",
    "\"The language 'Python' is named after Monty Python, not the snake.\"\n",
    "\n",
    "\"One of Python's strengths is its diverse and supportive community.\""
   ]
  },
  {
   "cell_type": "markdown",
   "id": "5239876d",
   "metadata": {},
   "source": [
    "### 2.3.1 Changing Case in a String with Methods"
   ]
  },
  {
   "cell_type": "code",
   "execution_count": 6,
   "id": "5614b9a3",
   "metadata": {},
   "outputs": [
    {
     "name": "stdout",
     "output_type": "stream",
     "text": [
      "Ada Lovelace\n"
     ]
    }
   ],
   "source": [
    "name = \"Ada lovelace\"\n",
    "print(name.title())"
   ]
  },
  {
   "cell_type": "code",
   "execution_count": 7,
   "id": "6cb088ad",
   "metadata": {},
   "outputs": [
    {
     "name": "stdout",
     "output_type": "stream",
     "text": [
      "ADA LOVELACE\n",
      "ada lovelace\n"
     ]
    }
   ],
   "source": [
    "name = \"Ada lovelace\"\n",
    "print(name.upper())\n",
    "print(name.lower())"
   ]
  },
  {
   "cell_type": "markdown",
   "id": "87be5d03",
   "metadata": {},
   "source": [
    "### 2.3.2 Using Variables in Strings"
   ]
  },
  {
   "cell_type": "code",
   "execution_count": 8,
   "id": "b75fe78d",
   "metadata": {},
   "outputs": [
    {
     "name": "stdout",
     "output_type": "stream",
     "text": [
      "zach xiang\n"
     ]
    }
   ],
   "source": [
    "first_name = \"zach\"\n",
    "last_name = \"xiang\"\n",
    "full_name = f\"{first_name} {last_name}\"\n",
    "print(full_name)"
   ]
  },
  {
   "cell_type": "markdown",
   "id": "7c95bdfe",
   "metadata": {},
   "source": [
    "These strings are called *f-strings*."
   ]
  },
  {
   "cell_type": "code",
   "execution_count": 9,
   "id": "d062e138",
   "metadata": {},
   "outputs": [
    {
     "name": "stdout",
     "output_type": "stream",
     "text": [
      "Hello, Zach Xiang!\n"
     ]
    }
   ],
   "source": [
    "first_name = \"zach\"\n",
    "last_name = \"xiang\"\n",
    "full_name = f\"{first_name} {last_name}\"\n",
    "print(f\"Hello, {full_name.title()}!\")"
   ]
  },
  {
   "cell_type": "code",
   "execution_count": 10,
   "id": "8dd33058",
   "metadata": {},
   "outputs": [
    {
     "name": "stdout",
     "output_type": "stream",
     "text": [
      "Hello, Zach Xiang!\n"
     ]
    }
   ],
   "source": [
    "first_name = \"zach\"\n",
    "last_name = \"xiang\"\n",
    "full_name = f\"{first_name} {last_name}\"\n",
    "message = f\"Hello, {full_name.title()}!\"\n",
    "print(message)"
   ]
  },
  {
   "cell_type": "markdown",
   "id": "fa6e98a2",
   "metadata": {},
   "source": [
    "F-strings were first introduced in Python 3.6. If you’re using Python 3.5 or earlier, you’ll need to use the format() method rather than this f syntax. "
   ]
  },
  {
   "cell_type": "code",
   "execution_count": 11,
   "id": "c188247f",
   "metadata": {},
   "outputs": [
    {
     "name": "stdout",
     "output_type": "stream",
     "text": [
      "Hello, Zach Xiang!\n"
     ]
    }
   ],
   "source": [
    "first_name = \"zach\"\n",
    "last_name = \"xiang\"\n",
    "full_name = \"{} {}\".format(first_name, last_name)\n",
    "message = \"Hello, {}!\".format(full_name.title())\n",
    "print(message)"
   ]
  },
  {
   "cell_type": "markdown",
   "id": "f576cfbd",
   "metadata": {},
   "source": [
    "### 2.3.3 Adding Whitespace to Strings with Tabs or Newlines"
   ]
  },
  {
   "cell_type": "code",
   "execution_count": 12,
   "id": "fbc847eb",
   "metadata": {},
   "outputs": [
    {
     "name": "stdout",
     "output_type": "stream",
     "text": [
      "Python\n",
      "\tpython\n"
     ]
    }
   ],
   "source": [
    "print(\"Python\")\n",
    "print(\"\\tpython\")"
   ]
  },
  {
   "cell_type": "code",
   "execution_count": 13,
   "id": "47839b6d",
   "metadata": {},
   "outputs": [
    {
     "name": "stdout",
     "output_type": "stream",
     "text": [
      "Languages:\n",
      "Python\n",
      "C\n",
      "JavaScript\n"
     ]
    }
   ],
   "source": [
    "print(\"Languages:\\nPython\\nC\\nJavaScript\")"
   ]
  },
  {
   "cell_type": "code",
   "execution_count": 14,
   "id": "a5b47c0f",
   "metadata": {},
   "outputs": [
    {
     "name": "stdout",
     "output_type": "stream",
     "text": [
      "Languages:\n",
      "\tPython\n",
      "\tC\n",
      "\tJavaScript\n"
     ]
    }
   ],
   "source": [
    "print(\"Languages:\\n\\tPython\\n\\tC\\n\\tJavaScript\")"
   ]
  },
  {
   "cell_type": "markdown",
   "id": "5b056b51",
   "metadata": {},
   "source": [
    "### 2.3.4 Stripping Whitespace"
   ]
  },
  {
   "cell_type": "code",
   "execution_count": 15,
   "id": "4fb965d8",
   "metadata": {},
   "outputs": [
    {
     "data": {
      "text/plain": [
       "'python '"
      ]
     },
     "execution_count": 15,
     "metadata": {},
     "output_type": "execute_result"
    }
   ],
   "source": [
    "favorite_language = 'python '\n",
    "favorite_language"
   ]
  },
  {
   "cell_type": "code",
   "execution_count": 16,
   "id": "f3b8f3e8",
   "metadata": {},
   "outputs": [
    {
     "data": {
      "text/plain": [
       "'python'"
      ]
     },
     "execution_count": 16,
     "metadata": {},
     "output_type": "execute_result"
    }
   ],
   "source": [
    "favorite_language.rstrip()"
   ]
  },
  {
   "cell_type": "code",
   "execution_count": 17,
   "id": "28649ef3",
   "metadata": {},
   "outputs": [
    {
     "data": {
      "text/plain": [
       "'python '"
      ]
     },
     "execution_count": 17,
     "metadata": {},
     "output_type": "execute_result"
    }
   ],
   "source": [
    "favorite_language"
   ]
  },
  {
   "cell_type": "code",
   "execution_count": 18,
   "id": "2cb544c7",
   "metadata": {},
   "outputs": [
    {
     "data": {
      "text/plain": [
       "'python'"
      ]
     },
     "execution_count": 18,
     "metadata": {},
     "output_type": "execute_result"
    }
   ],
   "source": [
    "favorite_language = 'python '\n",
    "favorite_language = favorite_language.rstrip()\n",
    "favorite_language"
   ]
  },
  {
   "cell_type": "code",
   "execution_count": 19,
   "id": "a1527de6",
   "metadata": {},
   "outputs": [
    {
     "data": {
      "text/plain": [
       "'python '"
      ]
     },
     "execution_count": 19,
     "metadata": {},
     "output_type": "execute_result"
    }
   ],
   "source": [
    "favorite_language = ' python '\n",
    "favorite_language.lstrip()"
   ]
  },
  {
   "cell_type": "code",
   "execution_count": 20,
   "id": "ec6899c8",
   "metadata": {},
   "outputs": [
    {
     "data": {
      "text/plain": [
       "' python'"
      ]
     },
     "execution_count": 20,
     "metadata": {},
     "output_type": "execute_result"
    }
   ],
   "source": [
    "favorite_language = ' python '\n",
    "favorite_language.rstrip()"
   ]
  },
  {
   "cell_type": "code",
   "execution_count": 21,
   "id": "03267384",
   "metadata": {},
   "outputs": [
    {
     "data": {
      "text/plain": [
       "'python'"
      ]
     },
     "execution_count": 21,
     "metadata": {},
     "output_type": "execute_result"
    }
   ],
   "source": [
    "favorite_language = ' python '\n",
    "favorite_language.strip()"
   ]
  },
  {
   "cell_type": "markdown",
   "id": "f9268cdd",
   "metadata": {},
   "source": [
    "In the real world, these stripping functions are used most often to clean up user input before it’s stored in a program."
   ]
  },
  {
   "cell_type": "markdown",
   "id": "deb2dcd4",
   "metadata": {},
   "source": [
    "### 2.3.5 Avoiding Syntax Errors with Strings"
   ]
  },
  {
   "cell_type": "code",
   "execution_count": 22,
   "id": "023ed2b7",
   "metadata": {},
   "outputs": [
    {
     "name": "stdout",
     "output_type": "stream",
     "text": [
      "One of Python's strengths is its diverse community.\n"
     ]
    }
   ],
   "source": [
    "message = \"One of Python's strengths is its diverse community.\"\n",
    "print(message)"
   ]
  },
  {
   "cell_type": "code",
   "execution_count": 23,
   "id": "8339859d",
   "metadata": {},
   "outputs": [
    {
     "ename": "SyntaxError",
     "evalue": "invalid syntax (1265700866.py, line 1)",
     "output_type": "error",
     "traceback": [
      "\u001B[0;36m  Input \u001B[0;32mIn [23]\u001B[0;36m\u001B[0m\n\u001B[0;31m    message = 'One of Python's strengths is its diverse community.'\u001B[0m\n\u001B[0m                             ^\u001B[0m\n\u001B[0;31mSyntaxError\u001B[0m\u001B[0;31m:\u001B[0m invalid syntax\n"
     ]
    }
   ],
   "source": [
    "message = 'One of Python's strengths is its diverse community.'\n",
    "print(message)"
   ]
  },
  {
   "cell_type": "markdown",
   "id": "bbdff462",
   "metadata": {},
   "source": [
    "### TRY IT YOURSELF\n",
    "\n",
    "- personal_message.py\n",
    "- name_cases.py\n",
    "- famous_quote.py\n",
    "- famous_quote2.py\n",
    "- stripping_names.py"
   ]
  },
  {
   "cell_type": "markdown",
   "id": "aad3462b",
   "metadata": {},
   "source": [
    "## 2.4 Numbers"
   ]
  },
  {
   "cell_type": "markdown",
   "id": "3b56efea",
   "metadata": {},
   "source": [
    "### 2.4.1 Integers"
   ]
  },
  {
   "cell_type": "code",
   "execution_count": 24,
   "id": "7e41f4c5",
   "metadata": {},
   "outputs": [
    {
     "data": {
      "text/plain": [
       "5"
      ]
     },
     "execution_count": 24,
     "metadata": {},
     "output_type": "execute_result"
    }
   ],
   "source": [
    "2 + 3"
   ]
  },
  {
   "cell_type": "code",
   "execution_count": 25,
   "id": "7d93893b",
   "metadata": {},
   "outputs": [
    {
     "data": {
      "text/plain": [
       "1"
      ]
     },
     "execution_count": 25,
     "metadata": {},
     "output_type": "execute_result"
    }
   ],
   "source": [
    "3 - 2"
   ]
  },
  {
   "cell_type": "code",
   "execution_count": 26,
   "id": "9217488c",
   "metadata": {},
   "outputs": [
    {
     "data": {
      "text/plain": [
       "6"
      ]
     },
     "execution_count": 26,
     "metadata": {},
     "output_type": "execute_result"
    }
   ],
   "source": [
    "2 * 3"
   ]
  },
  {
   "cell_type": "code",
   "execution_count": 27,
   "id": "1d4fd1fa",
   "metadata": {},
   "outputs": [
    {
     "data": {
      "text/plain": [
       "1.5"
      ]
     },
     "execution_count": 27,
     "metadata": {},
     "output_type": "execute_result"
    }
   ],
   "source": [
    "3 / 2"
   ]
  },
  {
   "cell_type": "code",
   "execution_count": 28,
   "id": "e8a47449",
   "metadata": {},
   "outputs": [
    {
     "data": {
      "text/plain": [
       "9"
      ]
     },
     "execution_count": 28,
     "metadata": {},
     "output_type": "execute_result"
    }
   ],
   "source": [
    "3 ** 2"
   ]
  },
  {
   "cell_type": "code",
   "execution_count": 29,
   "id": "55f78f27",
   "metadata": {},
   "outputs": [
    {
     "data": {
      "text/plain": [
       "27"
      ]
     },
     "execution_count": 29,
     "metadata": {},
     "output_type": "execute_result"
    }
   ],
   "source": [
    "3 ** 3"
   ]
  },
  {
   "cell_type": "code",
   "execution_count": 30,
   "id": "d5c1a468",
   "metadata": {},
   "outputs": [
    {
     "data": {
      "text/plain": [
       "1000000"
      ]
     },
     "execution_count": 30,
     "metadata": {},
     "output_type": "execute_result"
    }
   ],
   "source": [
    "10 ** 6"
   ]
  },
  {
   "cell_type": "code",
   "execution_count": 31,
   "id": "3b94bd19",
   "metadata": {},
   "outputs": [
    {
     "data": {
      "text/plain": [
       "14"
      ]
     },
     "execution_count": 31,
     "metadata": {},
     "output_type": "execute_result"
    }
   ],
   "source": [
    "2 + 3 * 4"
   ]
  },
  {
   "cell_type": "code",
   "execution_count": 32,
   "id": "d54e1094",
   "metadata": {},
   "outputs": [
    {
     "data": {
      "text/plain": [
       "20"
      ]
     },
     "execution_count": 32,
     "metadata": {},
     "output_type": "execute_result"
    }
   ],
   "source": [
    "(2 + 3) * 4"
   ]
  },
  {
   "cell_type": "markdown",
   "id": "7235ec65",
   "metadata": {},
   "source": [
    "### 2.4.2 Floats"
   ]
  },
  {
   "cell_type": "code",
   "execution_count": 33,
   "id": "815a66f5",
   "metadata": {},
   "outputs": [
    {
     "data": {
      "text/plain": [
       "0.2"
      ]
     },
     "execution_count": 33,
     "metadata": {},
     "output_type": "execute_result"
    }
   ],
   "source": [
    "0.1 + 0.1 "
   ]
  },
  {
   "cell_type": "code",
   "execution_count": 34,
   "id": "4c973078",
   "metadata": {},
   "outputs": [
    {
     "data": {
      "text/plain": [
       "0.4"
      ]
     },
     "execution_count": 34,
     "metadata": {},
     "output_type": "execute_result"
    }
   ],
   "source": [
    "0.2 + 0.2"
   ]
  },
  {
   "cell_type": "code",
   "execution_count": 35,
   "id": "eeace947",
   "metadata": {},
   "outputs": [
    {
     "data": {
      "text/plain": [
       "0.2"
      ]
     },
     "execution_count": 35,
     "metadata": {},
     "output_type": "execute_result"
    }
   ],
   "source": [
    "2 * 0.1"
   ]
  },
  {
   "cell_type": "code",
   "execution_count": 36,
   "id": "f6933970",
   "metadata": {},
   "outputs": [
    {
     "data": {
      "text/plain": [
       "0.4"
      ]
     },
     "execution_count": 36,
     "metadata": {},
     "output_type": "execute_result"
    }
   ],
   "source": [
    "2 * 0.2"
   ]
  },
  {
   "cell_type": "code",
   "execution_count": 37,
   "id": "29886b6c",
   "metadata": {},
   "outputs": [
    {
     "data": {
      "text/plain": [
       "0.30000000000000004"
      ]
     },
     "execution_count": 37,
     "metadata": {},
     "output_type": "execute_result"
    }
   ],
   "source": [
    "0.2 + 0.1"
   ]
  },
  {
   "cell_type": "code",
   "execution_count": 38,
   "id": "c31eb91b",
   "metadata": {},
   "outputs": [
    {
     "data": {
      "text/plain": [
       "0.30000000000000004"
      ]
     },
     "execution_count": 38,
     "metadata": {},
     "output_type": "execute_result"
    }
   ],
   "source": [
    "3 * 0.1"
   ]
  },
  {
   "cell_type": "markdown",
   "id": "45a14d58",
   "metadata": {},
   "source": [
    "### 2.4.3 Integers and Flolats"
   ]
  },
  {
   "cell_type": "code",
   "execution_count": 39,
   "id": "031d740b",
   "metadata": {},
   "outputs": [
    {
     "data": {
      "text/plain": [
       "2.0"
      ]
     },
     "execution_count": 39,
     "metadata": {},
     "output_type": "execute_result"
    }
   ],
   "source": [
    "4 / 2"
   ]
  },
  {
   "cell_type": "code",
   "execution_count": 40,
   "id": "1ffe3b35",
   "metadata": {},
   "outputs": [
    {
     "data": {
      "text/plain": [
       "3.0"
      ]
     },
     "execution_count": 40,
     "metadata": {},
     "output_type": "execute_result"
    }
   ],
   "source": [
    "1 + 2.0"
   ]
  },
  {
   "cell_type": "code",
   "execution_count": 41,
   "id": "fd015363",
   "metadata": {},
   "outputs": [
    {
     "data": {
      "text/plain": [
       "6.0"
      ]
     },
     "execution_count": 41,
     "metadata": {},
     "output_type": "execute_result"
    }
   ],
   "source": [
    "2 * 3.0"
   ]
  },
  {
   "cell_type": "code",
   "execution_count": 42,
   "id": "5f9ad877",
   "metadata": {},
   "outputs": [
    {
     "data": {
      "text/plain": [
       "9.0"
      ]
     },
     "execution_count": 42,
     "metadata": {},
     "output_type": "execute_result"
    }
   ],
   "source": [
    "3.0 ** 2"
   ]
  },
  {
   "cell_type": "markdown",
   "id": "c93545fa",
   "metadata": {},
   "source": [
    "### 2.4.4 Underscores in Numbers"
   ]
  },
  {
   "cell_type": "code",
   "execution_count": 43,
   "id": "1f83ecb4",
   "metadata": {},
   "outputs": [
    {
     "name": "stdout",
     "output_type": "stream",
     "text": [
      "14000000000\n"
     ]
    }
   ],
   "source": [
    "universe_age = 14_000_000_000\n",
    "print(universe_age)"
   ]
  },
  {
   "cell_type": "markdown",
   "id": "07e072ee",
   "metadata": {},
   "source": [
    "This feature works for integers and floats, but it’s only available in Python 3.6 and later."
   ]
  },
  {
   "cell_type": "markdown",
   "id": "159c3e97",
   "metadata": {},
   "source": [
    "### 2.4.5 Multiple Assignment"
   ]
  },
  {
   "cell_type": "code",
   "execution_count": 44,
   "id": "19130162",
   "metadata": {},
   "outputs": [],
   "source": [
    "x, y, z = 0, 0, 0"
   ]
  },
  {
   "cell_type": "markdown",
   "id": "eef53c3a",
   "metadata": {},
   "source": [
    "### 2.4.6 Constant"
   ]
  },
  {
   "cell_type": "markdown",
   "id": "e2fb2fdb",
   "metadata": {},
   "source": [
    "A constant is like a variable whose value stays the same throughout the life of a program. Python doesn’t have built-in constant types, but Python programmers use all capital letters to indicate a variable should be treated as a constant and never be changed:"
   ]
  },
  {
   "cell_type": "code",
   "execution_count": 45,
   "id": "e3c7bbf6",
   "metadata": {},
   "outputs": [],
   "source": [
    "MAX_CONNECTIONS = 5000"
   ]
  },
  {
   "cell_type": "markdown",
   "id": "b689022a",
   "metadata": {},
   "source": [
    "### TRY IT YOURSELF\n",
    "\n",
    "- number_eight.py\n",
    "- favorite_number.py"
   ]
  },
  {
   "cell_type": "markdown",
   "id": "7f4ea963",
   "metadata": {},
   "source": [
    "## 2.5 Comments"
   ]
  },
  {
   "cell_type": "markdown",
   "id": "505a96dd",
   "metadata": {},
   "source": [
    "### 2.5.1 How Do You Write Comments?"
   ]
  },
  {
   "cell_type": "code",
   "execution_count": 46,
   "id": "19f91e97",
   "metadata": {},
   "outputs": [
    {
     "name": "stdout",
     "output_type": "stream",
     "text": [
      "Hello Python people!\n"
     ]
    }
   ],
   "source": [
    "# Say hello to everyone.\n",
    "print(\"Hello Python people!\")"
   ]
  },
  {
   "cell_type": "markdown",
   "id": "448d18cc",
   "metadata": {},
   "source": [
    "### 2.5.2 What Kind of Comments Should You Write?"
   ]
  },
  {
   "cell_type": "markdown",
   "id": "fed1ee44",
   "metadata": {},
   "source": [
    "It’s much easier to delete extra comments later on than it is to go back and write comments for a sparsely commented program. "
   ]
  },
  {
   "cell_type": "markdown",
   "id": "6fc66d5c",
   "metadata": {},
   "source": [
    "### TRY IT YOURSELF\n",
    "\n",
    "- adding_comments"
   ]
  },
  {
   "cell_type": "markdown",
   "id": "c4958c15",
   "metadata": {},
   "source": [
    "## 2.6 The Zen of Python"
   ]
  },
  {
   "cell_type": "code",
   "execution_count": 47,
   "id": "57c52162",
   "metadata": {},
   "outputs": [
    {
     "name": "stdout",
     "output_type": "stream",
     "text": [
      "The Zen of Python, by Tim Peters\n",
      "\n",
      "Beautiful is better than ugly.\n",
      "Explicit is better than implicit.\n",
      "Simple is better than complex.\n",
      "Complex is better than complicated.\n",
      "Flat is better than nested.\n",
      "Sparse is better than dense.\n",
      "Readability counts.\n",
      "Special cases aren't special enough to break the rules.\n",
      "Although practicality beats purity.\n",
      "Errors should never pass silently.\n",
      "Unless explicitly silenced.\n",
      "In the face of ambiguity, refuse the temptation to guess.\n",
      "There should be one-- and preferably only one --obvious way to do it.\n",
      "Although that way may not be obvious at first unless you're Dutch.\n",
      "Now is better than never.\n",
      "Although never is often better than *right* now.\n",
      "If the implementation is hard to explain, it's a bad idea.\n",
      "If the implementation is easy to explain, it may be a good idea.\n",
      "Namespaces are one honking great idea -- let's do more of those!\n"
     ]
    }
   ],
   "source": [
    "import this"
   ]
  },
  {
   "cell_type": "markdown",
   "id": "7f4cfe4c",
   "metadata": {},
   "source": [
    "***python之禅***\n",
    "\n",
    "优美胜于丑陋（Python 以编写优美的代码为目标）\n",
    "\n",
    "明了胜于晦涩（优美的代码应当是明了的，命名规范，风格相似）\n",
    "\n",
    "简洁胜于复杂（优美的代码应当是简洁的，不要有复杂的内部实现）\n",
    "\n",
    "复杂胜于凌乱（如果复杂不可避免，那代码间也不能有难懂的关系，要保持接口简洁）\n",
    "\n",
    "扁平胜于嵌套（优美的代码应当是扁平的，不能有太多的嵌套）\n",
    "\n",
    "间隔胜于紧凑（优美的代码有适当的间隔，不要奢望一行代码解决问题）\n",
    "\n",
    "可读性很重要（优美的代码是可读的）\n",
    "\n",
    "即便假借特例的实用性之名，也不可违背这些规则（这些规则至高无上）\n",
    "\n",
    "不要包容所有错误，除非你确定需要这样做（精准地捕获异常，不写 except:pass 风格的代码）\n",
    "\n",
    "当存在多种可能，不要尝试去猜测\n",
    "\n",
    "而是尽量找一种，最好是唯一一种明显的解决方案（如果不确定，就用穷举法）\n",
    "\n",
    "虽然这并不容易，因为你不是 Python 之父（这里的 Dutch 是指 Guido ）\n",
    "\n",
    "做也许好过不做，但不假思索就动手还不如不做（动手之前要细思量）\n",
    "\n",
    "如果你无法向人描述你的方案，那肯定不是一个好方案；反之亦然（方案测评标准）\n",
    "\n",
    "命名空间是一种绝妙的理念，我们应当多加利用（倡导与号召）"
   ]
  },
  {
   "cell_type": "markdown",
   "id": "69e3540e",
   "metadata": {},
   "source": [
    "## 2.7 Summary"
   ]
  }
 ],
 "metadata": {
  "kernelspec": {
   "display_name": "Python 3 (ipykernel)",
   "language": "python",
   "name": "python3"
  },
  "language_info": {
   "codemirror_mode": {
    "name": "ipython",
    "version": 3
   },
   "file_extension": ".py",
   "mimetype": "text/x-python",
   "name": "python",
   "nbconvert_exporter": "python",
   "pygments_lexer": "ipython3",
   "version": "3.8.13"
  }
 },
 "nbformat": 4,
 "nbformat_minor": 5
}