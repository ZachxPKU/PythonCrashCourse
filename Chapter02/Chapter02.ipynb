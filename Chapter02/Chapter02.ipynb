{
 "cells": [
  {
   "cell_type": "markdown",
   "id": "0c9259d2",
   "metadata": {},
   "source": [
    "# Chapter 2 Variables and simple data types"
   ]
  },
  {
   "cell_type": "markdown",
   "id": "3e38e6e2",
   "metadata": {},
   "source": [
    "## 2.1 What Really Happens When You Run hello_world.py"
   ]
  },
  {
   "cell_type": "code",
   "execution_count": 1,
   "id": "aed973f6",
   "metadata": {},
   "outputs": [
    {
     "name": "stdout",
     "output_type": "stream",
     "text": [
      "Hello Python world!\n"
     ]
    }
   ],
   "source": [
    "print(\"Hello Python world!\")"
   ]
  },
  {
   "cell_type": "markdown",
   "id": "8f163e0c",
   "metadata": {},
   "source": [
    "## 2.2 Variables"
   ]
  },
  {
   "cell_type": "code",
   "execution_count": 2,
   "id": "00cae023",
   "metadata": {},
   "outputs": [
    {
     "name": "stdout",
     "output_type": "stream",
     "text": [
      "Hello Python world!\n"
     ]
    }
   ],
   "source": [
    "message = \"Hello Python world!\"\n",
    "print(message)"
   ]
  },
  {
   "cell_type": "code",
   "execution_count": 3,
   "id": "31f4c517",
   "metadata": {},
   "outputs": [
    {
     "name": "stdout",
     "output_type": "stream",
     "text": [
      "Hello Python world!\n",
      "Hello Python Crash Course world!\n"
     ]
    }
   ],
   "source": [
    "message = \"Hello Python world!\"\n",
    "print(message)\n",
    "\n",
    "message = \"Hello Python Crash Course world!\"\n",
    "print(message)"
   ]
  },
  {
   "cell_type": "markdown",
   "id": "15ecd3ec",
   "metadata": {},
   "source": [
    "### 2.2.1 Naming and Using Variables\n",
    "\n",
    "- Variable names can contain only letters, numbers, and underscores. They can start with a letter or an underscore, but not with a number. For instance, you can call a variable message_1 but not 1_message.\n",
    "- Spaces are not allowed in variable names, but underscores can be used to separate words in variable names. For example, greeting_message works, but greeting message will cause errors.\n",
    "- Avoid using Python keywords and function names as variable names; that is, do not use words that Python has reserved for a particular programmatic purpose, such as the word print. \n",
    "- Variable names should be short but descriptive. For example, name is better than n, student_name is better than s_n, and name_length is better than length_of_persons_name.\n",
    "- Be careful when using the lowercase letter l and the uppercase letter O because they could be confused with the numbers 1 and 0."
   ]
  },
  {
   "cell_type": "markdown",
   "id": "271a5403",
   "metadata": {},
   "source": [
    "### 2.2.2 Avoiding Name Errors When Using Variables"
   ]
  },
  {
   "cell_type": "code",
   "execution_count": 4,
   "id": "25c56fb1",
   "metadata": {},
   "outputs": [
    {
     "ename": "NameError",
     "evalue": "name 'mesage' is not defined",
     "output_type": "error",
     "traceback": [
      "\u001B[0;31m---------------------------------------------------------------------------\u001B[0m",
      "\u001B[0;31mNameError\u001B[0m                                 Traceback (most recent call last)",
      "Input \u001B[0;32mIn [4]\u001B[0m, in \u001B[0;36m<cell line: 2>\u001B[0;34m()\u001B[0m\n\u001B[1;32m      1\u001B[0m message \u001B[38;5;241m=\u001B[39m \u001B[38;5;124m\"\u001B[39m\u001B[38;5;124mHello Python Crash Course world!\u001B[39m\u001B[38;5;124m\"\u001B[39m\n\u001B[0;32m----> 2\u001B[0m \u001B[38;5;28mprint\u001B[39m(\u001B[43mmesage\u001B[49m)\n",
      "\u001B[0;31mNameError\u001B[0m: name 'mesage' is not defined"
     ]
    }
   ],
   "source": [
    "message = \"Hello Python Crash Course world!\"\n",
    "print(mesage)"
   ]
  },
  {
   "cell_type": "markdown",
   "id": "05876027",
   "metadata": {},
   "source": [
    "A name error usually means we either forgot to set a variable’s value before using it, or\n",
    "we made a spelling mistake when entering the variable’s name."
   ]
  },
  {
   "cell_type": "code",
   "execution_count": 5,
   "id": "a43f1ac0",
   "metadata": {},
   "outputs": [
    {
     "name": "stdout",
     "output_type": "stream",
     "text": [
      "Hello Python Crash Course world!\n"
     ]
    }
   ],
   "source": [
    "mesage = \"Hello Python Crash Course world!\"\n",
    "print(mesage)"
   ]
  },
  {
   "cell_type": "markdown",
   "id": "7cf51c6b",
   "metadata": {},
   "source": [
    "### 2.2.3 Variables Are Labels"
   ]
  },
  {
   "cell_type": "markdown",
   "id": "a1d937d3",
   "metadata": {},
   "source": [
    "### TRY IT YOURSELF\n",
    "\n",
    "- simple_message.py\n",
    "- simple_messages.py"
   ]
  },
  {
   "cell_type": "markdown",
   "id": "68f3a5c5",
   "metadata": {},
   "source": [
    "## 2.3 Strings"
   ]
  },
  {
   "cell_type": "markdown",
   "id": "2a0abe7d",
   "metadata": {},
   "source": [
    "\"This is a string.\"\n",
    "\n",
    "'This is also a string.'"
   ]
  },
  {
   "cell_type": "markdown",
   "id": "d8d022b9",
   "metadata": {},
   "source": [
    "'I told my friend, \"Python is my favorite language!\"'\n",
    "\n",
    "\"The language 'Python' is named after Monty Python, not the snake.\"\n",
    "\n",
    "\"One of Python's strengths is its diverse and supportive community.\""
   ]
  },
  {
   "cell_type": "markdown",
   "id": "981eb9de",
   "metadata": {},
   "source": [
    "### 2.3.1 Changing Case in a String with Methods"
   ]
  },
  {
   "cell_type": "code",
   "execution_count": 6,
   "id": "b68bd139",
   "metadata": {},
   "outputs": [
    {
     "name": "stdout",
     "output_type": "stream",
     "text": [
      "Ada Lovelace\n"
     ]
    }
   ],
   "source": [
    "name = \"Ada lovelace\"\n",
    "print(name.title())"
   ]
  },
  {
   "cell_type": "code",
   "execution_count": 7,
   "id": "1fa40e0a",
   "metadata": {},
   "outputs": [
    {
     "name": "stdout",
     "output_type": "stream",
     "text": [
      "ADA LOVELACE\n",
      "ada lovelace\n"
     ]
    }
   ],
   "source": [
    "name = \"Ada lovelace\"\n",
    "print(name.upper())\n",
    "print(name.lower())"
   ]
  },
  {
   "cell_type": "markdown",
   "id": "4cd56c6a",
   "metadata": {},
   "source": [
    "### 2.3.2 Using Variables in Strings"
   ]
  },
  {
   "cell_type": "code",
   "execution_count": 8,
   "id": "067a2afc",
   "metadata": {},
   "outputs": [
    {
     "name": "stdout",
     "output_type": "stream",
     "text": [
      "zach xiang\n"
     ]
    }
   ],
   "source": [
    "first_name = \"zach\"\n",
    "last_name = \"xiang\"\n",
    "full_name = f\"{first_name} {last_name}\"\n",
    "print(full_name)"
   ]
  },
  {
   "cell_type": "markdown",
   "id": "71f18fb1",
   "metadata": {},
   "source": [
    "These strings are called *f-strings*."
   ]
  },
  {
   "cell_type": "code",
   "execution_count": 9,
   "id": "8ac541a3",
   "metadata": {},
   "outputs": [
    {
     "name": "stdout",
     "output_type": "stream",
     "text": [
      "Hello, Zach Xiang!\n"
     ]
    }
   ],
   "source": [
    "first_name = \"zach\"\n",
    "last_name = \"xiang\"\n",
    "full_name = f\"{first_name} {last_name}\"\n",
    "print(f\"Hello, {full_name.title()}!\")"
   ]
  },
  {
   "cell_type": "code",
   "execution_count": 10,
   "id": "3313f5a5",
   "metadata": {},
   "outputs": [
    {
     "name": "stdout",
     "output_type": "stream",
     "text": [
      "Hello, Zach Xiang!\n"
     ]
    }
   ],
   "source": [
    "first_name = \"zach\"\n",
    "last_name = \"xiang\"\n",
    "full_name = f\"{first_name} {last_name}\"\n",
    "message = f\"Hello, {full_name.title()}!\"\n",
    "print(message)"
   ]
  },
  {
   "cell_type": "markdown",
   "id": "7fbd2843",
   "metadata": {},
   "source": [
    "F-strings were first introduced in Python 3.6. If you’re using Python 3.5 or earlier, you’ll need to use the format() method rather than this f syntax. "
   ]
  },
  {
   "cell_type": "code",
   "execution_count": 11,
   "id": "b3029743",
   "metadata": {},
   "outputs": [
    {
     "name": "stdout",
     "output_type": "stream",
     "text": [
      "Hello, Zach Xiang!\n"
     ]
    }
   ],
   "source": [
    "first_name = \"zach\"\n",
    "last_name = \"xiang\"\n",
    "full_name = \"{} {}\".format(first_name, last_name)\n",
    "message = \"Hello, {}!\".format(full_name.title())\n",
    "print(message)"
   ]
  },
  {
   "cell_type": "markdown",
   "id": "6ad3c51e",
   "metadata": {},
   "source": [
    "### 2.3.3 Adding Whitespace to Strings with Tabs or Newlines"
   ]
  },
  {
   "cell_type": "code",
   "execution_count": 12,
   "id": "c0fbd53c",
   "metadata": {},
   "outputs": [
    {
     "name": "stdout",
     "output_type": "stream",
     "text": [
      "Python\n",
      "\tpython\n"
     ]
    }
   ],
   "source": [
    "print(\"Python\")\n",
    "print(\"\\tpython\")"
   ]
  },
  {
   "cell_type": "code",
   "execution_count": 13,
   "id": "59f41e67",
   "metadata": {},
   "outputs": [
    {
     "name": "stdout",
     "output_type": "stream",
     "text": [
      "Languages:\n",
      "Python\n",
      "C\n",
      "JavaScript\n"
     ]
    }
   ],
   "source": [
    "print(\"Languages:\\nPython\\nC\\nJavaScript\")"
   ]
  },
  {
   "cell_type": "code",
   "execution_count": 14,
   "id": "92b46f53",
   "metadata": {},
   "outputs": [
    {
     "name": "stdout",
     "output_type": "stream",
     "text": [
      "Languages:\n",
      "\tPython\n",
      "\tC\n",
      "\tJavaScript\n"
     ]
    }
   ],
   "source": [
    "print(\"Languages:\\n\\tPython\\n\\tC\\n\\tJavaScript\")"
   ]
  },
  {
   "cell_type": "markdown",
   "id": "f40aeefb",
   "metadata": {},
   "source": [
    "### 2.3.4 Stripping Whitespace"
   ]
  },
  {
   "cell_type": "code",
   "execution_count": 15,
   "id": "61ead10d",
   "metadata": {},
   "outputs": [
    {
     "data": {
      "text/plain": [
       "'python '"
      ]
     },
     "execution_count": 15,
     "metadata": {},
     "output_type": "execute_result"
    }
   ],
   "source": [
    "favorite_language = 'python '\n",
    "favorite_language"
   ]
  },
  {
   "cell_type": "code",
   "execution_count": 16,
   "id": "3ed1cd2d",
   "metadata": {},
   "outputs": [
    {
     "data": {
      "text/plain": [
       "'python'"
      ]
     },
     "execution_count": 16,
     "metadata": {},
     "output_type": "execute_result"
    }
   ],
   "source": [
    "favorite_language.rstrip()"
   ]
  },
  {
   "cell_type": "code",
   "execution_count": null,
   "id": "2a2595da",
   "metadata": {},
   "outputs": [],
   "source": [
    "favorite_language"
   ]
  },
  {
   "cell_type": "code",
   "execution_count": null,
   "id": "684999a4",
   "metadata": {},
   "outputs": [],
   "source": [
    "favorite_language = 'python '\n",
    "favorite_language = favorite_language.rstrip()\n",
    "favorite_language"
   ]
  },
  {
   "cell_type": "code",
   "execution_count": null,
   "id": "8ab73954",
   "metadata": {},
   "outputs": [],
   "source": [
    "favorite_language = ' python '\n",
    "favorite_language.lstrip()"
   ]
  },
  {
   "cell_type": "code",
   "execution_count": null,
   "id": "209287df",
   "metadata": {},
   "outputs": [],
   "source": [
    "favorite_language = ' python '\n",
    "favorite_language.rstrip()"
   ]
  },
  {
   "cell_type": "code",
   "execution_count": null,
   "id": "49d7fd70",
   "metadata": {},
   "outputs": [],
   "source": [
    "favorite_language = ' python '\n",
    "favorite_language.strip()"
   ]
  },
  {
   "cell_type": "markdown",
   "id": "d613a895",
   "metadata": {},
   "source": [
    "In the real world, these stripping functions are used most often to clean up user input before it’s stored in a program."
   ]
  },
  {
   "cell_type": "markdown",
   "id": "f1b3b792",
   "metadata": {},
   "source": [
    "### 2.3.5 Avoiding Syntax Errors with Strings"
   ]
  },
  {
   "cell_type": "code",
   "execution_count": null,
   "id": "15347b24",
   "metadata": {},
   "outputs": [],
   "source": [
    "message = \"One of Python's strengths is its diverse community.\"\n",
    "print(message)"
   ]
  },
  {
   "cell_type": "code",
   "execution_count": null,
   "id": "17590332",
   "metadata": {},
   "outputs": [],
   "source": [
    "message = 'One of Python's strengths is its diverse community.'\n",
    "print(message)"
   ]
  },
  {
   "cell_type": "markdown",
   "id": "547cf271",
   "metadata": {},
   "source": [
    "### TRY IT YOURSELF\n",
    "\n",
    "- personal_message.py\n",
    "- name_cases.py\n",
    "- famous_quote.py\n",
    "- famous_quote2.py\n",
    "- stripping_names.py"
   ]
  },
  {
   "cell_type": "code",
   "execution_count": null,
   "id": "4bd87956",
   "metadata": {},
   "outputs": [],
   "source": []
  }
 ],
 "metadata": {
  "kernelspec": {
   "display_name": "Python 3 (ipykernel)",
   "language": "python",
   "name": "python3"
  },
  "language_info": {
   "codemirror_mode": {
    "name": "ipython",
    "version": 3
   },
   "file_extension": ".py",
   "mimetype": "text/x-python",
   "name": "python",
   "nbconvert_exporter": "python",
   "pygments_lexer": "ipython3",
   "version": "3.8.13"
  }
 },
 "nbformat": 4,
 "nbformat_minor": 5
}