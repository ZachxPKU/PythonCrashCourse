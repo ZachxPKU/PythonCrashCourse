{
 "cells": [
  {
   "cell_type": "markdown",
   "id": "e31ab428",
   "metadata": {},
   "source": [
    "# Chapter 5 if statements"
   ]
  },
  {
   "cell_type": "markdown",
   "id": "a893c264",
   "metadata": {},
   "source": [
    "## 5.1 A simple example"
   ]
  },
  {
   "cell_type": "code",
   "execution_count": 1,
   "id": "3f499f1f",
   "metadata": {},
   "outputs": [
    {
     "name": "stdout",
     "output_type": "stream",
     "text": [
      "Audi\n",
      "BMW\n",
      "Subaru\n",
      "Toyota\n"
     ]
    }
   ],
   "source": [
    "cars = ['audi', 'bmw', 'subaru', 'toyota']\n",
    "\n",
    "for car in cars:\n",
    "    if car == 'bmw':\n",
    "        print(car.upper())\n",
    "    else:\n",
    "        print(car.title())"
   ]
  },
  {
   "cell_type": "markdown",
   "id": "fc8cc99d",
   "metadata": {},
   "source": [
    "## 5.2 Conditional Tests"
   ]
  },
  {
   "cell_type": "markdown",
   "id": "8edebeee",
   "metadata": {},
   "source": [
    "### 5.2.1 Checking for equality"
   ]
  },
  {
   "cell_type": "code",
   "execution_count": 2,
   "id": "f67329e9",
   "metadata": {},
   "outputs": [
    {
     "data": {
      "text/plain": [
       "True"
      ]
     },
     "execution_count": 2,
     "metadata": {},
     "output_type": "execute_result"
    }
   ],
   "source": [
    "car = 'bmw'\n",
    "car == 'bmw'"
   ]
  },
  {
   "cell_type": "code",
   "execution_count": 3,
   "id": "3f46c37c",
   "metadata": {},
   "outputs": [
    {
     "data": {
      "text/plain": [
       "False"
      ]
     },
     "execution_count": 3,
     "metadata": {},
     "output_type": "execute_result"
    }
   ],
   "source": [
    "car = 'audi'\n",
    "car == 'bmw'"
   ]
  },
  {
   "cell_type": "markdown",
   "id": "afc64c3a",
   "metadata": {},
   "source": [
    "### 5.2.2 Ignoring case when checking for equality"
   ]
  },
  {
   "cell_type": "code",
   "execution_count": 4,
   "id": "49cdaf61",
   "metadata": {},
   "outputs": [
    {
     "data": {
      "text/plain": [
       "False"
      ]
     },
     "execution_count": 4,
     "metadata": {},
     "output_type": "execute_result"
    }
   ],
   "source": [
    "car = 'Audi'\n",
    "car == 'audi'"
   ]
  },
  {
   "cell_type": "code",
   "execution_count": 5,
   "id": "c0cfbf84",
   "metadata": {},
   "outputs": [
    {
     "data": {
      "text/plain": [
       "True"
      ]
     },
     "execution_count": 5,
     "metadata": {},
     "output_type": "execute_result"
    }
   ],
   "source": [
    "car = 'Audi'\n",
    "car.lower() == 'audi'"
   ]
  },
  {
   "cell_type": "code",
   "execution_count": 6,
   "id": "16f84896",
   "metadata": {},
   "outputs": [
    {
     "data": {
      "text/plain": [
       "'Audi'"
      ]
     },
     "execution_count": 6,
     "metadata": {},
     "output_type": "execute_result"
    }
   ],
   "source": [
    "car"
   ]
  },
  {
   "cell_type": "markdown",
   "id": "6f0520bb",
   "metadata": {},
   "source": [
    "### 5.2.3 Checking for inequality"
   ]
  },
  {
   "cell_type": "code",
   "execution_count": 7,
   "id": "d5e9cc96",
   "metadata": {},
   "outputs": [
    {
     "name": "stdout",
     "output_type": "stream",
     "text": [
      "Hold the anchovies!\n"
     ]
    }
   ],
   "source": [
    "requested_topping = 'mushrooms'\n",
    "\n",
    "if requested_topping != 'anchovies':\n",
    "    print(\"Hold the anchovies!\")"
   ]
  },
  {
   "cell_type": "markdown",
   "id": "87671a3e",
   "metadata": {},
   "source": [
    "### 5.2.4 Numerical Comparisons"
   ]
  },
  {
   "cell_type": "code",
   "execution_count": 8,
   "id": "6bf7b6be",
   "metadata": {},
   "outputs": [
    {
     "data": {
      "text/plain": [
       "True"
      ]
     },
     "execution_count": 8,
     "metadata": {},
     "output_type": "execute_result"
    }
   ],
   "source": [
    "age = 18\n",
    "age == 18"
   ]
  },
  {
   "cell_type": "code",
   "execution_count": 9,
   "id": "4bf85ca3",
   "metadata": {},
   "outputs": [
    {
     "name": "stdout",
     "output_type": "stream",
     "text": [
      "That is not the correct answer. Please try again!\n"
     ]
    }
   ],
   "source": [
    "answer = 17\n",
    "if answer != 42:\n",
    "    print(\"That is not the correct answer. Please try again!\")"
   ]
  },
  {
   "cell_type": "code",
   "execution_count": 10,
   "id": "c8d77883",
   "metadata": {},
   "outputs": [
    {
     "data": {
      "text/plain": [
       "True"
      ]
     },
     "execution_count": 10,
     "metadata": {},
     "output_type": "execute_result"
    }
   ],
   "source": [
    "age = 19\n",
    "age < 21"
   ]
  },
  {
   "cell_type": "code",
   "execution_count": 11,
   "id": "7595a5b6",
   "metadata": {},
   "outputs": [
    {
     "data": {
      "text/plain": [
       "True"
      ]
     },
     "execution_count": 11,
     "metadata": {},
     "output_type": "execute_result"
    }
   ],
   "source": [
    "age <= 21"
   ]
  },
  {
   "cell_type": "code",
   "execution_count": 12,
   "id": "9ed82b88",
   "metadata": {},
   "outputs": [
    {
     "data": {
      "text/plain": [
       "False"
      ]
     },
     "execution_count": 12,
     "metadata": {},
     "output_type": "execute_result"
    }
   ],
   "source": [
    "age >= 21"
   ]
  },
  {
   "cell_type": "markdown",
   "id": "ea8c38c2",
   "metadata": {},
   "source": [
    "### 5.2.5 Checking Multiple Conditions"
   ]
  },
  {
   "cell_type": "markdown",
   "id": "597c77f9",
   "metadata": {},
   "source": [
    "#### Using and to check multiple conditions"
   ]
  },
  {
   "cell_type": "code",
   "execution_count": 13,
   "id": "0826af9a",
   "metadata": {},
   "outputs": [
    {
     "data": {
      "text/plain": [
       "False"
      ]
     },
     "execution_count": 13,
     "metadata": {},
     "output_type": "execute_result"
    }
   ],
   "source": [
    "age_0 = 22\n",
    "age_1 = 18\n",
    "age_0 >= 21 and age_1 >= 21"
   ]
  },
  {
   "cell_type": "code",
   "execution_count": 14,
   "id": "a462953f",
   "metadata": {},
   "outputs": [
    {
     "data": {
      "text/plain": [
       "True"
      ]
     },
     "execution_count": 14,
     "metadata": {},
     "output_type": "execute_result"
    }
   ],
   "source": [
    "age_1 = 22\n",
    "age_0 >= 21 and age_1 >= 21"
   ]
  },
  {
   "cell_type": "code",
   "execution_count": 15,
   "id": "40993f94",
   "metadata": {},
   "outputs": [
    {
     "data": {
      "text/plain": [
       "True"
      ]
     },
     "execution_count": 15,
     "metadata": {},
     "output_type": "execute_result"
    }
   ],
   "source": [
    "(age_0 >= 21) and (age_1 >= 21)"
   ]
  },
  {
   "cell_type": "markdown",
   "id": "f9253b05",
   "metadata": {},
   "source": [
    "#### using or to check multiple conditions"
   ]
  },
  {
   "cell_type": "code",
   "execution_count": 17,
   "id": "d83750bb",
   "metadata": {},
   "outputs": [
    {
     "data": {
      "text/plain": [
       "True"
      ]
     },
     "execution_count": 17,
     "metadata": {},
     "output_type": "execute_result"
    }
   ],
   "source": [
    "age_0 = 22\n",
    "age_1 = 18\n",
    "age_0 >= 21 or age_1 >= 21"
   ]
  },
  {
   "cell_type": "code",
   "execution_count": 18,
   "id": "ba375c43",
   "metadata": {},
   "outputs": [
    {
     "data": {
      "text/plain": [
       "False"
      ]
     },
     "execution_count": 18,
     "metadata": {},
     "output_type": "execute_result"
    }
   ],
   "source": [
    "age_0 = 18\n",
    "age_0 >= 21 or age_1 >= 21"
   ]
  },
  {
   "cell_type": "markdown",
   "id": "a57b340d",
   "metadata": {},
   "source": [
    "### 5.2.6 Checking whether a value is in a list"
   ]
  },
  {
   "cell_type": "code",
   "execution_count": 19,
   "id": "1566f3da",
   "metadata": {},
   "outputs": [
    {
     "data": {
      "text/plain": [
       "True"
      ]
     },
     "execution_count": 19,
     "metadata": {},
     "output_type": "execute_result"
    }
   ],
   "source": [
    "requested_toppings = ['mushrooms', 'onions', 'pineapple']\n",
    "'mushrooms' in requested_toppings"
   ]
  },
  {
   "cell_type": "code",
   "execution_count": 20,
   "id": "ffa1db3d",
   "metadata": {},
   "outputs": [
    {
     "data": {
      "text/plain": [
       "False"
      ]
     },
     "execution_count": 20,
     "metadata": {},
     "output_type": "execute_result"
    }
   ],
   "source": [
    "'pepperoni' in requested_toppings"
   ]
  },
  {
   "cell_type": "markdown",
   "id": "ed72d3db",
   "metadata": {},
   "source": [
    "### 5.2.7 Checking whether a value is not in a list"
   ]
  },
  {
   "cell_type": "code",
   "execution_count": 21,
   "id": "2fd32e1b",
   "metadata": {},
   "outputs": [
    {
     "name": "stdout",
     "output_type": "stream",
     "text": [
      "Marie, you can post a response if you wish.\n"
     ]
    }
   ],
   "source": [
    "banned_users = ['andrew', 'carolina', 'david']\n",
    "user = 'marie'\n",
    "\n",
    "if user not in banned_users:\n",
    "    print(f\"{user.title()}, you can post a response if you wish.\")"
   ]
  },
  {
   "cell_type": "markdown",
   "id": "3a6e710f",
   "metadata": {},
   "source": [
    "### 5.2.8 Boolean expressions"
   ]
  },
  {
   "cell_type": "code",
   "execution_count": 22,
   "id": "6cfdd25e",
   "metadata": {},
   "outputs": [],
   "source": [
    "game_active = True\n",
    "can_edit = False "
   ]
  },
  {
   "cell_type": "markdown",
   "id": "05a256ba",
   "metadata": {},
   "source": [
    "### TRY IT YOURSELF\n",
    "\n",
    "- conditional_tests.py\n",
    "- more_conditional_tests.py"
   ]
  },
  {
   "cell_type": "markdown",
   "id": "a314a862",
   "metadata": {},
   "source": [
    "## 5.3 if statements"
   ]
  },
  {
   "cell_type": "markdown",
   "id": "dc909c95",
   "metadata": {},
   "source": [
    "### 5.3.1 if statements"
   ]
  },
  {
   "cell_type": "code",
   "execution_count": 23,
   "id": "d12e5b46",
   "metadata": {},
   "outputs": [
    {
     "name": "stdout",
     "output_type": "stream",
     "text": [
      "You are old enough to vote!\n"
     ]
    }
   ],
   "source": [
    "age = 19\n",
    "if age >= 18:\n",
    "    print(\"You are old enough to vote!\")"
   ]
  },
  {
   "cell_type": "code",
   "execution_count": 24,
   "id": "4413f12f",
   "metadata": {},
   "outputs": [
    {
     "name": "stdout",
     "output_type": "stream",
     "text": [
      "You are old enough to vote!\n",
      "Have you registered to vote yet?\n"
     ]
    }
   ],
   "source": [
    "age = 19\n",
    "if age >= 18:\n",
    "    print(\"You are old enough to vote!\")\n",
    "    print(\"Have you registered to vote yet?\")"
   ]
  },
  {
   "cell_type": "markdown",
   "id": "eeed381e",
   "metadata": {},
   "source": [
    "### 5.3.2 if-else statements"
   ]
  },
  {
   "cell_type": "code",
   "execution_count": 25,
   "id": "6ba45a3b",
   "metadata": {},
   "outputs": [
    {
     "name": "stdout",
     "output_type": "stream",
     "text": [
      "Sorry, you are too young to vote.\n",
      "Please register to vote as soon as you turn 18!\n"
     ]
    }
   ],
   "source": [
    "age = 17\n",
    "if age >= 18:\n",
    "    print(\"You are old enough to vote!\")\n",
    "    print(\"Have you registered to vote yet?\")\n",
    "else:\n",
    "    print(\"Sorry, you are too young to vote.\")\n",
    "    print(\"Please register to vote as soon as you turn 18!\")"
   ]
  },
  {
   "cell_type": "markdown",
   "id": "731572a5",
   "metadata": {},
   "source": [
    "### 5.3.3 the if-elif-else chain"
   ]
  },
  {
   "cell_type": "code",
   "execution_count": 26,
   "id": "2684a340",
   "metadata": {},
   "outputs": [
    {
     "name": "stdout",
     "output_type": "stream",
     "text": [
      "Your admission cost is $25.\n"
     ]
    }
   ],
   "source": [
    "age = 12\n",
    "\n",
    "if age < 4:\n",
    "    print(\"Your admission cost is $0.\")\n",
    "    \n",
    "elif age < 18:\n",
    "    print(\"Your admission cost is $25.\")\n",
    "else:\n",
    "    print(\"Your admission cost is $40.\")"
   ]
  },
  {
   "cell_type": "code",
   "execution_count": 27,
   "id": "4cf9d4a1",
   "metadata": {},
   "outputs": [
    {
     "name": "stdout",
     "output_type": "stream",
     "text": [
      "Your admission cost is 25.\n"
     ]
    }
   ],
   "source": [
    "age = 12\n",
    "\n",
    "if age < 4:\n",
    "    price = 0\n",
    "    \n",
    "elif age < 18:\n",
    "    price = 25\n",
    "    \n",
    "else:\n",
    "    price = 40\n",
    "    \n",
    "print(f\"Your admission cost is {price}.\")"
   ]
  },
  {
   "cell_type": "markdown",
   "id": "0f0f1ea1",
   "metadata": {},
   "source": [
    "### 5.3.4 Using multiple elif blocks"
   ]
  },
  {
   "cell_type": "code",
   "execution_count": 28,
   "id": "4cb7017d",
   "metadata": {},
   "outputs": [
    {
     "name": "stdout",
     "output_type": "stream",
     "text": [
      "Your admission cost is 25.\n"
     ]
    }
   ],
   "source": [
    "age = 12\n",
    "\n",
    "age = 12\n",
    "\n",
    "if age < 4:\n",
    "    price = 0\n",
    "    \n",
    "elif age < 18:\n",
    "    price = 25\n",
    "    \n",
    "elif age < 65:\n",
    "    price = 40\n",
    "    \n",
    "else:\n",
    "    price = 20\n",
    "    \n",
    "print(f\"Your admission cost is {price}.\")\n"
   ]
  },
  {
   "cell_type": "markdown",
   "id": "0377d57d",
   "metadata": {},
   "source": [
    "### 5.3.5 Omitting the else block"
   ]
  },
  {
   "cell_type": "code",
   "execution_count": 29,
   "id": "722bf225",
   "metadata": {},
   "outputs": [
    {
     "name": "stdout",
     "output_type": "stream",
     "text": [
      "Your admission cost is 25.\n"
     ]
    }
   ],
   "source": [
    "age = 12\n",
    "\n",
    "age = 12\n",
    "\n",
    "if age < 4:\n",
    "    price = 0\n",
    "    \n",
    "elif age < 18:\n",
    "    price = 25\n",
    "    \n",
    "elif age < 65:\n",
    "    price = 40\n",
    "    \n",
    "elif age >= 65:\n",
    "    price = 20\n",
    "    \n",
    "print(f\"Your admission cost is {price}.\")"
   ]
  },
  {
   "cell_type": "markdown",
   "id": "3f75ef64",
   "metadata": {},
   "source": [
    "### 5.3.6 Testing multiple conditions"
   ]
  },
  {
   "cell_type": "code",
   "execution_count": 30,
   "id": "83e54ee5",
   "metadata": {},
   "outputs": [
    {
     "name": "stdout",
     "output_type": "stream",
     "text": [
      "Adding mushrooms.\n",
      "Adding extra cheese.\n",
      "\n",
      "Finished making your pizza!\n"
     ]
    }
   ],
   "source": [
    "requested_toppings = ['mushrooms', 'extra cheese']\n",
    "if 'mushrooms' in requested_toppings:\n",
    "    print(\"Adding mushrooms.\")\n",
    "if 'pepperoni' in requested_toppings:\n",
    "    print(\"Adding pepperoni.\")\n",
    "if 'extra cheese' in requested_toppings:\n",
    "    print(\"Adding extra cheese.\")\n",
    "    \n",
    "print(\"\\nFinished making your pizza!\")"
   ]
  },
  {
   "cell_type": "code",
   "execution_count": 31,
   "id": "c1512c84",
   "metadata": {},
   "outputs": [
    {
     "name": "stdout",
     "output_type": "stream",
     "text": [
      "Adding mushrooms.\n",
      "\n",
      "Finished making your pizza!\n"
     ]
    }
   ],
   "source": [
    "requested_toppings = ['mushrooms', 'extra cheese']\n",
    "if 'mushrooms' in requested_toppings:\n",
    "    print(\"Adding mushrooms.\")\n",
    "elif 'pepperoni' in requested_toppings:\n",
    "    print(\"Adding pepperoni.\")\n",
    "elif 'extra cheese' in requested_toppings:\n",
    "    print(\"Adding extra cheese.\")\n",
    "    \n",
    "print(\"\\nFinished making your pizza!\")"
   ]
  },
  {
   "cell_type": "markdown",
   "id": "ea2ce1e5",
   "metadata": {},
   "source": [
    "### TRY IT YOURSELF"
   ]
  },
  {
   "cell_type": "code",
   "execution_count": null,
   "id": "f838f679",
   "metadata": {},
   "outputs": [],
   "source": []
  }
 ],
 "metadata": {
  "kernelspec": {
   "display_name": "Python 3 (ipykernel)",
   "language": "python",
   "name": "python3"
  },
  "language_info": {
   "codemirror_mode": {
    "name": "ipython",
    "version": 3
   },
   "file_extension": ".py",
   "mimetype": "text/x-python",
   "name": "python",
   "nbconvert_exporter": "python",
   "pygments_lexer": "ipython3",
   "version": "3.8.13"
  }
 },
 "nbformat": 4,
 "nbformat_minor": 5
}
