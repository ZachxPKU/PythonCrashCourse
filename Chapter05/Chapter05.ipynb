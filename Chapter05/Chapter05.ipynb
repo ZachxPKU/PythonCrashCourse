{
 "cells": [
  {
   "cell_type": "markdown",
   "id": "734bd024",
   "metadata": {},
   "source": [
    "# Chapter 5 if statements"
   ]
  },
  {
   "cell_type": "markdown",
   "id": "ed4d7835",
   "metadata": {},
   "source": [
    "## 5.1 A simple example"
   ]
  },
  {
   "cell_type": "code",
   "execution_count": 1,
   "id": "b676b6f7",
   "metadata": {},
   "outputs": [
    {
     "name": "stdout",
     "output_type": "stream",
     "text": [
      "Audi\n",
      "BMW\n",
      "Subaru\n",
      "Toyota\n"
     ]
    }
   ],
   "source": [
    "cars = ['audi', 'bmw', 'subaru', 'toyota']\n",
    "\n",
    "for car in cars:\n",
    "    if car == 'bmw':\n",
    "        print(car.upper())\n",
    "    else:\n",
    "        print(car.title())"
   ]
  },
  {
   "cell_type": "markdown",
   "id": "498a61a9",
   "metadata": {},
   "source": [
    "## 5.2 Conditional Tests"
   ]
  },
  {
   "cell_type": "markdown",
   "id": "7b5479c8",
   "metadata": {},
   "source": [
    "### 5.2.1 Checking for equality"
   ]
  },
  {
   "cell_type": "code",
   "execution_count": 2,
   "id": "e4868d26",
   "metadata": {},
   "outputs": [
    {
     "data": {
      "text/plain": [
       "True"
      ]
     },
     "execution_count": 2,
     "metadata": {},
     "output_type": "execute_result"
    }
   ],
   "source": [
    "car = 'bmw'\n",
    "car == 'bmw'"
   ]
  },
  {
   "cell_type": "code",
   "execution_count": 3,
   "id": "3a2e2d5c",
   "metadata": {},
   "outputs": [
    {
     "data": {
      "text/plain": [
       "False"
      ]
     },
     "execution_count": 3,
     "metadata": {},
     "output_type": "execute_result"
    }
   ],
   "source": [
    "car = 'audi'\n",
    "car == 'bmw'"
   ]
  },
  {
   "cell_type": "markdown",
   "id": "51623459",
   "metadata": {},
   "source": [
    "### 5.2.2 Ignoring case when checking for equality"
   ]
  },
  {
   "cell_type": "code",
   "execution_count": 4,
   "id": "c0418d3b",
   "metadata": {},
   "outputs": [
    {
     "data": {
      "text/plain": [
       "False"
      ]
     },
     "execution_count": 4,
     "metadata": {},
     "output_type": "execute_result"
    }
   ],
   "source": [
    "car = 'Audi'\n",
    "car == 'audi'"
   ]
  },
  {
   "cell_type": "code",
   "execution_count": 5,
   "id": "6b779769",
   "metadata": {},
   "outputs": [
    {
     "data": {
      "text/plain": [
       "True"
      ]
     },
     "execution_count": 5,
     "metadata": {},
     "output_type": "execute_result"
    }
   ],
   "source": [
    "car = 'Audi'\n",
    "car.lower() == 'audi'"
   ]
  },
  {
   "cell_type": "code",
   "execution_count": 6,
   "id": "4847e409",
   "metadata": {},
   "outputs": [
    {
     "data": {
      "text/plain": [
       "'Audi'"
      ]
     },
     "execution_count": 6,
     "metadata": {},
     "output_type": "execute_result"
    }
   ],
   "source": [
    "car"
   ]
  },
  {
   "cell_type": "markdown",
   "id": "a6c6c009",
   "metadata": {},
   "source": [
    "### 5.2.3 Checking for inequality"
   ]
  },
  {
   "cell_type": "code",
   "execution_count": 7,
   "id": "ee2491fb",
   "metadata": {},
   "outputs": [
    {
     "name": "stdout",
     "output_type": "stream",
     "text": [
      "Hold the anchovies!\n"
     ]
    }
   ],
   "source": [
    "requested_topping = 'mushrooms'\n",
    "\n",
    "if requested_topping != 'anchovies':\n",
    "    print(\"Hold the anchovies!\")"
   ]
  },
  {
   "cell_type": "markdown",
   "id": "9ca4ebc4",
   "metadata": {},
   "source": [
    "### 5.2.4 Numerical Comparisons"
   ]
  },
  {
   "cell_type": "code",
   "execution_count": 8,
   "id": "5391dc0e",
   "metadata": {},
   "outputs": [
    {
     "data": {
      "text/plain": [
       "True"
      ]
     },
     "execution_count": 8,
     "metadata": {},
     "output_type": "execute_result"
    }
   ],
   "source": [
    "age = 18\n",
    "age == 18"
   ]
  },
  {
   "cell_type": "code",
   "execution_count": 9,
   "id": "c6fce341",
   "metadata": {},
   "outputs": [
    {
     "name": "stdout",
     "output_type": "stream",
     "text": [
      "That is not the correct answer. Please try again!\n"
     ]
    }
   ],
   "source": [
    "answer = 17\n",
    "if answer != 42:\n",
    "    print(\"That is not the correct answer. Please try again!\")"
   ]
  },
  {
   "cell_type": "code",
   "execution_count": 10,
   "id": "5bc229c4",
   "metadata": {},
   "outputs": [
    {
     "data": {
      "text/plain": [
       "True"
      ]
     },
     "execution_count": 10,
     "metadata": {},
     "output_type": "execute_result"
    }
   ],
   "source": [
    "age = 19\n",
    "age < 21"
   ]
  },
  {
   "cell_type": "code",
   "execution_count": 11,
   "id": "a1f3ea2f",
   "metadata": {},
   "outputs": [
    {
     "data": {
      "text/plain": [
       "True"
      ]
     },
     "execution_count": 11,
     "metadata": {},
     "output_type": "execute_result"
    }
   ],
   "source": [
    "age <= 21"
   ]
  },
  {
   "cell_type": "code",
   "execution_count": 12,
   "id": "8cacff93",
   "metadata": {},
   "outputs": [
    {
     "data": {
      "text/plain": [
       "False"
      ]
     },
     "execution_count": 12,
     "metadata": {},
     "output_type": "execute_result"
    }
   ],
   "source": [
    "age >= 21"
   ]
  },
  {
   "cell_type": "markdown",
   "id": "7a28f4b7",
   "metadata": {},
   "source": [
    "### 5.2.5 Checking Multiple Conditions"
   ]
  },
  {
   "cell_type": "markdown",
   "id": "1f1a3775",
   "metadata": {},
   "source": [
    "#### Using and to check multiple conditions"
   ]
  },
  {
   "cell_type": "code",
   "execution_count": 13,
   "id": "6657487c",
   "metadata": {},
   "outputs": [
    {
     "data": {
      "text/plain": [
       "False"
      ]
     },
     "execution_count": 13,
     "metadata": {},
     "output_type": "execute_result"
    }
   ],
   "source": [
    "age_0 = 22\n",
    "age_1 = 18\n",
    "age_0 >= 21 and age_1 >= 21"
   ]
  },
  {
   "cell_type": "code",
   "execution_count": 14,
   "id": "0faf3c87",
   "metadata": {},
   "outputs": [
    {
     "data": {
      "text/plain": [
       "True"
      ]
     },
     "execution_count": 14,
     "metadata": {},
     "output_type": "execute_result"
    }
   ],
   "source": [
    "age_1 = 22\n",
    "age_0 >= 21 and age_1 >= 21"
   ]
  },
  {
   "cell_type": "code",
   "execution_count": 15,
   "id": "a5f2ee10",
   "metadata": {},
   "outputs": [
    {
     "data": {
      "text/plain": [
       "True"
      ]
     },
     "execution_count": 15,
     "metadata": {},
     "output_type": "execute_result"
    }
   ],
   "source": [
    "(age_0 >= 21) and (age_1 >= 21)"
   ]
  },
  {
   "cell_type": "markdown",
   "id": "95838434",
   "metadata": {},
   "source": [
    "#### using or to check multiple conditions"
   ]
  },
  {
   "cell_type": "code",
   "execution_count": 16,
   "id": "a2d58a77",
   "metadata": {},
   "outputs": [
    {
     "data": {
      "text/plain": [
       "True"
      ]
     },
     "execution_count": 16,
     "metadata": {},
     "output_type": "execute_result"
    }
   ],
   "source": [
    "age_0 = 22\n",
    "age_1 = 18\n",
    "age_0 >= 21 or age_1 >= 21"
   ]
  },
  {
   "cell_type": "code",
   "execution_count": 17,
   "id": "ac75499d",
   "metadata": {},
   "outputs": [
    {
     "data": {
      "text/plain": [
       "False"
      ]
     },
     "execution_count": 17,
     "metadata": {},
     "output_type": "execute_result"
    }
   ],
   "source": [
    "age_0 = 18\n",
    "age_0 >= 21 or age_1 >= 21"
   ]
  },
  {
   "cell_type": "markdown",
   "id": "232ff6f6",
   "metadata": {},
   "source": [
    "### 5.2.6 Checking whether a value is in a list"
   ]
  },
  {
   "cell_type": "code",
   "execution_count": 18,
   "id": "2e9d0554",
   "metadata": {},
   "outputs": [
    {
     "data": {
      "text/plain": [
       "True"
      ]
     },
     "execution_count": 18,
     "metadata": {},
     "output_type": "execute_result"
    }
   ],
   "source": [
    "requested_toppings = ['mushrooms', 'onions', 'pineapple']\n",
    "'mushrooms' in requested_toppings"
   ]
  },
  {
   "cell_type": "code",
   "execution_count": 19,
   "id": "c56de324",
   "metadata": {},
   "outputs": [
    {
     "data": {
      "text/plain": [
       "False"
      ]
     },
     "execution_count": 19,
     "metadata": {},
     "output_type": "execute_result"
    }
   ],
   "source": [
    "'pepperoni' in requested_toppings"
   ]
  },
  {
   "cell_type": "markdown",
   "id": "c72b11ad",
   "metadata": {},
   "source": [
    "### 5.2.7 Checking whether a value is not in a list"
   ]
  },
  {
   "cell_type": "code",
   "execution_count": 20,
   "id": "511db3b0",
   "metadata": {},
   "outputs": [
    {
     "name": "stdout",
     "output_type": "stream",
     "text": [
      "Marie, you can post a response if you wish.\n"
     ]
    }
   ],
   "source": [
    "banned_users = ['andrew', 'carolina', 'david']\n",
    "user = 'marie'\n",
    "\n",
    "if user not in banned_users:\n",
    "    print(f\"{user.title()}, you can post a response if you wish.\")"
   ]
  },
  {
   "cell_type": "markdown",
   "id": "7d86aae4",
   "metadata": {},
   "source": [
    "### 5.2.8 Boolean expressions"
   ]
  },
  {
   "cell_type": "code",
   "execution_count": 21,
   "id": "19001f4e",
   "metadata": {},
   "outputs": [],
   "source": [
    "game_active = True\n",
    "can_edit = False "
   ]
  },
  {
   "cell_type": "markdown",
   "id": "3bc0abb8",
   "metadata": {},
   "source": [
    "### TRY IT YOURSELF\n",
    "\n",
    "- conditional_tests.py\n",
    "- more_conditional_tests.py"
   ]
  },
  {
   "cell_type": "markdown",
   "id": "e55f283b",
   "metadata": {},
   "source": [
    "## 5.3 if statements"
   ]
  },
  {
   "cell_type": "markdown",
   "id": "4b7f4b2d",
   "metadata": {},
   "source": [
    "### 5.3.1 if statements"
   ]
  },
  {
   "cell_type": "code",
   "execution_count": 22,
   "id": "1dd8a96c",
   "metadata": {},
   "outputs": [
    {
     "name": "stdout",
     "output_type": "stream",
     "text": [
      "You are old enough to vote!\n"
     ]
    }
   ],
   "source": [
    "age = 19\n",
    "if age >= 18:\n",
    "    print(\"You are old enough to vote!\")"
   ]
  },
  {
   "cell_type": "code",
   "execution_count": 23,
   "id": "95961116",
   "metadata": {},
   "outputs": [
    {
     "name": "stdout",
     "output_type": "stream",
     "text": [
      "You are old enough to vote!\n",
      "Have you registered to vote yet?\n"
     ]
    }
   ],
   "source": [
    "age = 19\n",
    "if age >= 18:\n",
    "    print(\"You are old enough to vote!\")\n",
    "    print(\"Have you registered to vote yet?\")"
   ]
  },
  {
   "cell_type": "markdown",
   "id": "dace1e32",
   "metadata": {},
   "source": [
    "### 5.3.2 if-else statements"
   ]
  },
  {
   "cell_type": "code",
   "execution_count": 24,
   "id": "e0039748",
   "metadata": {},
   "outputs": [
    {
     "name": "stdout",
     "output_type": "stream",
     "text": [
      "Sorry, you are too young to vote.\n",
      "Please register to vote as soon as you turn 18!\n"
     ]
    }
   ],
   "source": [
    "age = 17\n",
    "if age >= 18:\n",
    "    print(\"You are old enough to vote!\")\n",
    "    print(\"Have you registered to vote yet?\")\n",
    "else:\n",
    "    print(\"Sorry, you are too young to vote.\")\n",
    "    print(\"Please register to vote as soon as you turn 18!\")"
   ]
  },
  {
   "cell_type": "markdown",
   "id": "9f2d02af",
   "metadata": {},
   "source": [
    "### 5.3.3 the if-elif-else chain"
   ]
  },
  {
   "cell_type": "code",
   "execution_count": 25,
   "id": "f8ffc2f9",
   "metadata": {},
   "outputs": [
    {
     "name": "stdout",
     "output_type": "stream",
     "text": [
      "Your admission cost is $25.\n"
     ]
    }
   ],
   "source": [
    "age = 12\n",
    "\n",
    "if age < 4:\n",
    "    print(\"Your admission cost is $0.\")\n",
    "    \n",
    "elif age < 18:\n",
    "    print(\"Your admission cost is $25.\")\n",
    "else:\n",
    "    print(\"Your admission cost is $40.\")"
   ]
  },
  {
   "cell_type": "code",
   "execution_count": 26,
   "id": "daf482c3",
   "metadata": {},
   "outputs": [
    {
     "name": "stdout",
     "output_type": "stream",
     "text": [
      "Your admission cost is 25.\n"
     ]
    }
   ],
   "source": [
    "age = 12\n",
    "\n",
    "if age < 4:\n",
    "    price = 0\n",
    "    \n",
    "elif age < 18:\n",
    "    price = 25\n",
    "    \n",
    "else:\n",
    "    price = 40\n",
    "    \n",
    "print(f\"Your admission cost is {price}.\")"
   ]
  },
  {
   "cell_type": "markdown",
   "id": "96cc6e02",
   "metadata": {},
   "source": [
    "### 5.3.4 Using multiple elif blocks"
   ]
  },
  {
   "cell_type": "code",
   "execution_count": 27,
   "id": "8f2d4f42",
   "metadata": {},
   "outputs": [
    {
     "name": "stdout",
     "output_type": "stream",
     "text": [
      "Your admission cost is 25.\n"
     ]
    }
   ],
   "source": [
    "age = 12\n",
    "\n",
    "age = 12\n",
    "\n",
    "if age < 4:\n",
    "    price = 0\n",
    "    \n",
    "elif age < 18:\n",
    "    price = 25\n",
    "    \n",
    "elif age < 65:\n",
    "    price = 40\n",
    "    \n",
    "else:\n",
    "    price = 20\n",
    "    \n",
    "print(f\"Your admission cost is {price}.\")\n"
   ]
  },
  {
   "cell_type": "markdown",
   "id": "77600ad7",
   "metadata": {},
   "source": [
    "### 5.3.5 Omitting the else block"
   ]
  },
  {
   "cell_type": "code",
   "execution_count": 28,
   "id": "5653d2de",
   "metadata": {},
   "outputs": [
    {
     "name": "stdout",
     "output_type": "stream",
     "text": [
      "Your admission cost is 25.\n"
     ]
    }
   ],
   "source": [
    "age = 12\n",
    "\n",
    "age = 12\n",
    "\n",
    "if age < 4:\n",
    "    price = 0\n",
    "    \n",
    "elif age < 18:\n",
    "    price = 25\n",
    "    \n",
    "elif age < 65:\n",
    "    price = 40\n",
    "    \n",
    "elif age >= 65:\n",
    "    price = 20\n",
    "    \n",
    "print(f\"Your admission cost is {price}.\")"
   ]
  },
  {
   "cell_type": "markdown",
   "id": "9948b7e9",
   "metadata": {},
   "source": [
    "### 5.3.6 Testing multiple conditions"
   ]
  },
  {
   "cell_type": "code",
   "execution_count": 29,
   "id": "364a1db6",
   "metadata": {},
   "outputs": [
    {
     "name": "stdout",
     "output_type": "stream",
     "text": [
      "Adding mushrooms.\n",
      "Adding extra cheese.\n",
      "\n",
      "Finished making your pizza!\n"
     ]
    }
   ],
   "source": [
    "requested_toppings = ['mushrooms', 'extra cheese']\n",
    "if 'mushrooms' in requested_toppings:\n",
    "    print(\"Adding mushrooms.\")\n",
    "if 'pepperoni' in requested_toppings:\n",
    "    print(\"Adding pepperoni.\")\n",
    "if 'extra cheese' in requested_toppings:\n",
    "    print(\"Adding extra cheese.\")\n",
    "    \n",
    "print(\"\\nFinished making your pizza!\")"
   ]
  },
  {
   "cell_type": "code",
   "execution_count": 30,
   "id": "cf83e273",
   "metadata": {},
   "outputs": [
    {
     "name": "stdout",
     "output_type": "stream",
     "text": [
      "Adding mushrooms.\n",
      "\n",
      "Finished making your pizza!\n"
     ]
    }
   ],
   "source": [
    "requested_toppings = ['mushrooms', 'extra cheese']\n",
    "if 'mushrooms' in requested_toppings:\n",
    "    print(\"Adding mushrooms.\")\n",
    "elif 'pepperoni' in requested_toppings:\n",
    "    print(\"Adding pepperoni.\")\n",
    "elif 'extra cheese' in requested_toppings:\n",
    "    print(\"Adding extra cheese.\")\n",
    "    \n",
    "print(\"\\nFinished making your pizza!\")"
   ]
  },
  {
   "cell_type": "markdown",
   "id": "9c6b191c",
   "metadata": {},
   "source": [
    "### TRY IT YOURSELF\n",
    "\n",
    "- alien_colors_1.py\n",
    "- alien_colors_2.py\n",
    "- alien_colors_3.py\n",
    "- stages_of_life.py\n",
    "- favorite_fruit.py"
   ]
  },
  {
   "cell_type": "markdown",
   "id": "0f2d00ef",
   "metadata": {},
   "source": [
    "## 5.4 Using if statements with lists"
   ]
  },
  {
   "cell_type": "markdown",
   "id": "d8295d27",
   "metadata": {},
   "source": [
    "### 5.4.1 Checking for special items"
   ]
  },
  {
   "cell_type": "code",
   "execution_count": 31,
   "id": "a8a2371e",
   "metadata": {},
   "outputs": [
    {
     "name": "stdout",
     "output_type": "stream",
     "text": [
      "Adding mushrooms.\n",
      "Adding green peppers.\n",
      "Adding extra cheese.\n",
      "\n",
      "Finished making your pizza!\n"
     ]
    }
   ],
   "source": [
    "requested_toppings = ['mushrooms', 'green peppers', 'extra cheese']\n",
    "\n",
    "for requested_topping in requested_toppings:\n",
    "    print(f\"Adding {requested_topping}.\")\n",
    "    \n",
    "print(\"\\nFinished making your pizza!\")"
   ]
  },
  {
   "cell_type": "code",
   "execution_count": 32,
   "id": "c4797854",
   "metadata": {},
   "outputs": [
    {
     "name": "stdout",
     "output_type": "stream",
     "text": [
      "Adding mushrooms.\n",
      "Sorry, we are out of green peppers right now.\n",
      "Adding extra cheese.\n",
      "\n",
      "Finished making your pizza!\n"
     ]
    }
   ],
   "source": [
    "requested_toppings = ['mushrooms', 'green peppers', 'extra cheese']\n",
    "\n",
    "for requested_topping in requested_toppings:\n",
    "    if requested_topping == 'green peppers':\n",
    "        print(\"Sorry, we are out of green peppers right now.\")\n",
    "    else:\n",
    "        print(f\"Adding {requested_topping}.\")\n",
    "    \n",
    "print(\"\\nFinished making your pizza!\")"
   ]
  },
  {
   "cell_type": "markdown",
   "id": "90c1039e",
   "metadata": {},
   "source": [
    "### 5.4.2 Checking that a list is not empty"
   ]
  },
  {
   "cell_type": "code",
   "execution_count": 33,
   "id": "b5a31933",
   "metadata": {},
   "outputs": [
    {
     "name": "stdout",
     "output_type": "stream",
     "text": [
      "Are you sure you want a plain pizza?\n"
     ]
    }
   ],
   "source": [
    "requested_toppings = []\n",
    "\n",
    "if requested_toppings:\n",
    "    for requested_topping in requested_toppings:\n",
    "        print(f\"Adding {requested_topping}.\")\n",
    "    print(\"\\nFinished making your pizza!\")\n",
    "    \n",
    "else:\n",
    "    print(\"Are you sure you want a plain pizza?\")\n",
    "        "
   ]
  },
  {
   "cell_type": "markdown",
   "id": "5795afd2",
   "metadata": {},
   "source": [
    "### 5.4.3 Using multiple lists"
   ]
  },
  {
   "cell_type": "code",
   "execution_count": 34,
   "id": "6d87eefe",
   "metadata": {},
   "outputs": [
    {
     "name": "stdout",
     "output_type": "stream",
     "text": [
      "Adding mushrooms.\n",
      "Sorry, we don't have french fries.\n",
      "Adding extra cheese.\n",
      "\n",
      "Finished making your pizza!\n"
     ]
    }
   ],
   "source": [
    "available_toppings = ['mushrooms', 'olives', 'green peppers',\n",
    "'pepperoni', 'pineapple', 'extra cheese']\n",
    "\n",
    "requested_toppings = ['mushrooms', 'french fries', 'extra cheese']\n",
    "\n",
    "for requested_topping in requested_toppings:\n",
    "    if requested_topping in available_toppings:\n",
    "        print(f\"Adding {requested_topping}.\")\n",
    "    else:\n",
    "        print(f\"Sorry, we don't have {requested_topping}.\")\n",
    "\n",
    "print(\"\\nFinished making your pizza!\")"
   ]
  },
  {
   "cell_type": "markdown",
   "id": "2fd95af7",
   "metadata": {},
   "source": [
    "### TRY IT YOURSELF\n",
    "\n",
    "- hello_admin.py\n",
    "- no_users.py\n",
    "- checking_usernames.py\n",
    "- ordinal_numbers.py\n"
   ]
  },
  {
   "cell_type": "markdown",
   "id": "fcf58529",
   "metadata": {},
   "source": [
    "## 5.5 Styling your if statements"
   ]
  },
  {
   "cell_type": "code",
   "execution_count": 35,
   "id": "69567ea5",
   "metadata": {},
   "outputs": [],
   "source": [
    "if age < 4:\n",
    "    print(\"if age < 4\")"
   ]
  },
  {
   "cell_type": "markdown",
   "id": "94d6b74e",
   "metadata": {},
   "source": [
    "is better than"
   ]
  },
  {
   "cell_type": "code",
   "execution_count": 36,
   "id": "58b3eb29",
   "metadata": {},
   "outputs": [],
   "source": [
    "if age<4:\n",
    "    print(\"if age<4\")"
   ]
  },
  {
   "cell_type": "markdown",
   "id": "cb59c020",
   "metadata": {},
   "source": [
    "### TRY IT YOURSELF"
   ]
  },
  {
   "cell_type": "markdown",
   "id": "bfbbf836",
   "metadata": {},
   "source": [
    "## 5.6 Summary"
   ]
  }
 ],
 "metadata": {
  "kernelspec": {
   "display_name": "Python 3 (ipykernel)",
   "language": "python",
   "name": "python3"
  },
  "language_info": {
   "codemirror_mode": {
    "name": "ipython",
    "version": 3
   },
   "file_extension": ".py",
   "mimetype": "text/x-python",
   "name": "python",
   "nbconvert_exporter": "python",
   "pygments_lexer": "ipython3",
   "version": "3.8.13"
  }
 },
 "nbformat": 4,
 "nbformat_minor": 5
}
