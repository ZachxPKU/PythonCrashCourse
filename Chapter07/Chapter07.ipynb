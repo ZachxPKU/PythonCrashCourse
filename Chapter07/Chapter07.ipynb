{
 "cells": [
  {
   "cell_type": "markdown",
   "id": "3c1c3e88",
   "metadata": {},
   "source": [
    "# Chapter 7 User input and while loops"
   ]
  },
  {
   "cell_type": "markdown",
   "id": "7b48d0fb",
   "metadata": {},
   "source": [
    "## 7.1 How the input() function works"
   ]
  },
  {
   "cell_type": "code",
   "execution_count": 1,
   "id": "d6924520",
   "metadata": {},
   "outputs": [
    {
     "name": "stdout",
     "output_type": "stream",
     "text": [
      "Tell me something, and I will repeat it back to you: Zach\n",
      "Zach\n"
     ]
    }
   ],
   "source": [
    "message = input(\"Tell me something, and I will repeat it back to you: \")\n",
    "print(message)"
   ]
  },
  {
   "cell_type": "markdown",
   "id": "645717d1",
   "metadata": {},
   "source": [
    "### 7.1.1 Writing clear prompts"
   ]
  },
  {
   "cell_type": "code",
   "execution_count": 2,
   "id": "a17c0a00",
   "metadata": {},
   "outputs": [
    {
     "name": "stdout",
     "output_type": "stream",
     "text": [
      "Please enter your name: Zach\n",
      "\n",
      "Hello, Zach!\n"
     ]
    }
   ],
   "source": [
    "name = input(\"Please enter your name: \")\n",
    "print(f\"\\nHello, {name}!\")"
   ]
  },
  {
   "cell_type": "code",
   "execution_count": 3,
   "id": "81717a82",
   "metadata": {},
   "outputs": [
    {
     "name": "stdout",
     "output_type": "stream",
     "text": [
      "If you tell us who you are, we can personalize the messages you see.\n",
      "What is your first name? Zach\n",
      "\n",
      "Hello, Zach!\n"
     ]
    }
   ],
   "source": [
    "prompt = \"If you tell us who you are, we can personalize the messages you see.\"\n",
    "prompt += \"\\nWhat is your first name? \"\n",
    "name = input(prompt)\n",
    "print(f\"\\nHello, {name}!\")"
   ]
  },
  {
   "cell_type": "markdown",
   "id": "95b7717e",
   "metadata": {},
   "source": [
    "### 7.1.2 Using int() to accept numerical input"
   ]
  },
  {
   "cell_type": "code",
   "execution_count": 4,
   "id": "0b432c56",
   "metadata": {},
   "outputs": [
    {
     "name": "stdout",
     "output_type": "stream",
     "text": [
      "How old are you? 18\n"
     ]
    }
   ],
   "source": [
    "age = input(\"How old are you? \")"
   ]
  },
  {
   "cell_type": "code",
   "execution_count": 5,
   "id": "6b4c6d82",
   "metadata": {},
   "outputs": [
    {
     "data": {
      "text/plain": [
       "'18'"
      ]
     },
     "execution_count": 5,
     "metadata": {},
     "output_type": "execute_result"
    }
   ],
   "source": [
    "age"
   ]
  },
  {
   "cell_type": "code",
   "execution_count": 6,
   "id": "97a4e9d6",
   "metadata": {},
   "outputs": [],
   "source": [
    "age = int(age)"
   ]
  },
  {
   "cell_type": "code",
   "execution_count": 7,
   "id": "6a2b4848",
   "metadata": {},
   "outputs": [
    {
     "data": {
      "text/plain": [
       "True"
      ]
     },
     "execution_count": 7,
     "metadata": {},
     "output_type": "execute_result"
    }
   ],
   "source": [
    "age >= 18"
   ]
  },
  {
   "cell_type": "code",
   "execution_count": 8,
   "id": "af9f64c3",
   "metadata": {},
   "outputs": [
    {
     "name": "stdout",
     "output_type": "stream",
     "text": [
      "How tall are you, in inches? 60\n",
      "\n",
      "You're tall enough to ride!\n"
     ]
    }
   ],
   "source": [
    "height = input(\"How tall are you, in inches? \")\n",
    "height = int(height)\n",
    "if height >= 48:\n",
    "    print(\"\\nYou're tall enough to ride!\")\n",
    "else:\n",
    "    print(\"\\nYou'll be able to ride when you're a little older.\")"
   ]
  },
  {
   "cell_type": "markdown",
   "id": "a82a833d",
   "metadata": {},
   "source": [
    "### 7.1.3 The modulo operator"
   ]
  },
  {
   "cell_type": "code",
   "execution_count": 9,
   "id": "13a08ee1",
   "metadata": {},
   "outputs": [
    {
     "data": {
      "text/plain": [
       "1"
      ]
     },
     "execution_count": 9,
     "metadata": {},
     "output_type": "execute_result"
    }
   ],
   "source": [
    "5 % 2"
   ]
  },
  {
   "cell_type": "code",
   "execution_count": 10,
   "id": "13bec4ce",
   "metadata": {},
   "outputs": [
    {
     "data": {
      "text/plain": [
       "0"
      ]
     },
     "execution_count": 10,
     "metadata": {},
     "output_type": "execute_result"
    }
   ],
   "source": [
    "6 % 3"
   ]
  },
  {
   "cell_type": "code",
   "execution_count": 11,
   "id": "83522040",
   "metadata": {},
   "outputs": [
    {
     "data": {
      "text/plain": [
       "2"
      ]
     },
     "execution_count": 11,
     "metadata": {},
     "output_type": "execute_result"
    }
   ],
   "source": [
    "8 % 3"
   ]
  },
  {
   "cell_type": "code",
   "execution_count": 12,
   "id": "2d082b06",
   "metadata": {},
   "outputs": [
    {
     "name": "stdout",
     "output_type": "stream",
     "text": [
      "Enter a number, and I'll tell you if it's even or odd: 8\n",
      "\n",
      "The number 8 is even.\n"
     ]
    }
   ],
   "source": [
    "number = input(\"Enter a number, and I'll tell you if it's even or odd: \")\n",
    "number = int(number)\n",
    "if number % 2 == 0:\n",
    "    print(f\"\\nThe number {number} is even.\")\n",
    "else:\n",
    "    print(f\"\\nThe number {number} is odd.\")"
   ]
  },
  {
   "cell_type": "markdown",
   "id": "44684aad",
   "metadata": {},
   "source": [
    "### TRY IT YOURSELF\n",
    "- rental_car.py\n",
    "- rental_car.py\n",
    "- multiples_of_ten.py"
   ]
  },
  {
   "cell_type": "markdown",
   "id": "91b6846b",
   "metadata": {},
   "source": [
    "## 7.2 Introducing while loops"
   ]
  },
  {
   "cell_type": "markdown",
   "id": "00beebe7",
   "metadata": {},
   "source": [
    "The for loop takes a collection of items and executes a block of code once for each item in the collection. In contrast, the while loop runs as long as, or while, a certain condition is true."
   ]
  },
  {
   "cell_type": "markdown",
   "id": "e1c291fe",
   "metadata": {},
   "source": [
    "### 7.2.1 The while loop in action"
   ]
  },
  {
   "cell_type": "code",
   "execution_count": 13,
   "id": "2f6995e7",
   "metadata": {},
   "outputs": [
    {
     "name": "stdout",
     "output_type": "stream",
     "text": [
      "1\n",
      "2\n",
      "3\n",
      "4\n",
      "5\n"
     ]
    }
   ],
   "source": [
    "current_number = 1\n",
    "while current_number <= 5:\n",
    "    print(current_number)\n",
    "    current_number += 1"
   ]
  },
  {
   "cell_type": "markdown",
   "id": "c94f0ef0",
   "metadata": {},
   "source": [
    "### 7.2.2 Letting the user choose when to quit"
   ]
  },
  {
   "cell_type": "code",
   "execution_count": 14,
   "id": "806fd4ea",
   "metadata": {},
   "outputs": [
    {
     "name": "stdout",
     "output_type": "stream",
     "text": [
      "If you tell us who you are, we can personalize the messages you see.\n",
      "What is your first name? Zach\n",
      "Zach\n",
      "If you tell us who you are, we can personalize the messages you see.\n",
      "What is your first name? quit\n"
     ]
    }
   ],
   "source": [
    "prompt = \"If you tell us who you are, we can personalize the messages you see.\"\n",
    "prompt += \"\\nWhat is your first name? \"\n",
    "message = \"\"\n",
    "while message != 'quit':\n",
    "    message = input(prompt)\n",
    "    \n",
    "    if message != 'quit':\n",
    "        print(message)"
   ]
  },
  {
   "cell_type": "markdown",
   "id": "ae43d1eb",
   "metadata": {},
   "source": [
    "### 7.2.3 Using a flag"
   ]
  },
  {
   "cell_type": "code",
   "execution_count": 15,
   "id": "23cce01d",
   "metadata": {},
   "outputs": [
    {
     "name": "stdout",
     "output_type": "stream",
     "text": [
      "\n",
      "Tell me something, and I will repeat it back to you:\n",
      "Enter 'quit' to end the program. Zach\n",
      "Zach\n",
      "\n",
      "Tell me something, and I will repeat it back to you:\n",
      "Enter 'quit' to end the program. quit\n"
     ]
    }
   ],
   "source": [
    "prompt = \"\\nTell me something, and I will repeat it back to you:\"\n",
    "prompt += \"\\nEnter 'quit' to end the program. \"\n",
    "active = True\n",
    "while active:\n",
    "    message = input(prompt)\n",
    "    if message == 'quit':\n",
    "        active = False\n",
    "    else:\n",
    "        print(message)"
   ]
  },
  {
   "cell_type": "markdown",
   "id": "51634cb2",
   "metadata": {},
   "source": [
    "### 7.2.4 Using break to exit a loop"
   ]
  },
  {
   "cell_type": "code",
   "execution_count": 16,
   "id": "b2aee596",
   "metadata": {},
   "outputs": [
    {
     "name": "stdout",
     "output_type": "stream",
     "text": [
      "\n",
      "Please enter the name of a city you have visited:\n",
      "(Enter 'quit' when you are finished.) Pairs\n",
      "I'd love to go to Pairs!\n",
      "\n",
      "Please enter the name of a city you have visited:\n",
      "(Enter 'quit' when you are finished.) quit\n"
     ]
    }
   ],
   "source": [
    "prompt = \"\\nPlease enter the name of a city you have visited:\"\n",
    "prompt += \"\\n(Enter 'quit' when you are finished.) \"\n",
    "\n",
    "while True:\n",
    "    city = input(prompt)\n",
    "    \n",
    "    if city == 'quit':\n",
    "        break\n",
    "    else:\n",
    "        print(f\"I'd love to go to {city.title()}!\")\n",
    "            "
   ]
  },
  {
   "cell_type": "markdown",
   "id": "611c6b86",
   "metadata": {},
   "source": [
    "### 7.2.5 Using continue in a Loop"
   ]
  },
  {
   "cell_type": "code",
   "execution_count": 17,
   "id": "66a81ba1",
   "metadata": {},
   "outputs": [
    {
     "name": "stdout",
     "output_type": "stream",
     "text": [
      "1\n",
      "3\n",
      "5\n",
      "7\n",
      "9\n"
     ]
    }
   ],
   "source": [
    "current_number = 0\n",
    "while current_number < 10:\n",
    "    current_number += 1\n",
    "    if current_number % 2 == 0:\n",
    "        continue\n",
    "    \n",
    "    print(current_number)"
   ]
  },
  {
   "cell_type": "markdown",
   "id": "6f040e61",
   "metadata": {},
   "source": [
    "### 7.2.6 Avoiding Infinite Loops"
   ]
  },
  {
   "cell_type": "code",
   "execution_count": 18,
   "id": "e63d44f7",
   "metadata": {},
   "outputs": [
    {
     "name": "stdout",
     "output_type": "stream",
     "text": [
      "1\n",
      "2\n",
      "3\n",
      "4\n",
      "5\n"
     ]
    }
   ],
   "source": [
    "x = 1\n",
    "while x <= 5:\n",
    "    print(x)\n",
    "    x += 1"
   ]
  },
  {
   "cell_type": "code",
   "execution_count": 19,
   "id": "877cdc9c",
   "metadata": {},
   "outputs": [],
   "source": [
    "# x = 1\n",
    "# while x <= 5:\n",
    "#     print(x)"
   ]
  },
  {
   "cell_type": "markdown",
   "id": "2852d523",
   "metadata": {},
   "source": [
    "### TRY IT YOURSELF\n",
    "\n",
    "- pizza_toppings.py\n",
    "- movie_tickets.py\n",
    "- infinity.py"
   ]
  },
  {
   "cell_type": "markdown",
   "id": "544589f9",
   "metadata": {},
   "source": [
    "## 7.3 Using a while loop with lists and dictionaries\n",
    "\n",
    "A for loop is effective for looping through a list, but you shouldn’t modify\n",
    "a list inside a for loop because Python will have trouble keeping track of the\n",
    "items in the list. To modify a list as you work through it, use a while loop.\n",
    "Using while loops with lists and dictionaries allows you to collect, store, and\n",
    "organize lots of input to examine and report on later."
   ]
  },
  {
   "cell_type": "markdown",
   "id": "0fd9fbfa",
   "metadata": {},
   "source": [
    "### 7.3.1 Moving items from one list to another"
   ]
  },
  {
   "cell_type": "code",
   "execution_count": 20,
   "id": "d79db191",
   "metadata": {},
   "outputs": [
    {
     "name": "stdout",
     "output_type": "stream",
     "text": [
      "Verifying user: Candace\n",
      "Verifying user: Brian\n",
      "Verifying user: Alice\n",
      "\n",
      "The following users have been confirmed:\n",
      "Candace\n",
      "Brian\n",
      "Alice\n"
     ]
    }
   ],
   "source": [
    "unconfirmed_users = ['alice', 'brian', 'candace']\n",
    "confirmed_users = []\n",
    "\n",
    "while unconfirmed_users:\n",
    "    current_user = unconfirmed_users.pop()\n",
    "    print(f\"Verifying user: {current_user.title()}\")\n",
    "    confirmed_users.append(current_user)\n",
    "print(\"\\nThe following users have been confirmed:\")\n",
    "for confirmed_user in confirmed_users:\n",
    "    print(confirmed_user.title())"
   ]
  },
  {
   "cell_type": "markdown",
   "id": "3ddd0c12",
   "metadata": {},
   "source": [
    "### 7.3.2 Removing all instances of specific values from a list"
   ]
  },
  {
   "cell_type": "code",
   "execution_count": 21,
   "id": "b610b2f1",
   "metadata": {},
   "outputs": [
    {
     "name": "stdout",
     "output_type": "stream",
     "text": [
      "['dog', 'cat', 'dog', 'goldfish', 'cat', 'rabbit', 'cat']\n",
      "['dog', 'dog', 'goldfish', 'cat', 'rabbit', 'cat']\n",
      "['dog', 'dog', 'goldfish', 'rabbit', 'cat']\n",
      "['dog', 'dog', 'goldfish', 'rabbit']\n"
     ]
    }
   ],
   "source": [
    "pets = ['dog', 'cat', 'dog', 'goldfish', 'cat', 'rabbit', 'cat']\n",
    "print(pets)\n",
    "while 'cat' in pets:\n",
    "    pets.remove('cat')\n",
    "    print(pets)"
   ]
  },
  {
   "cell_type": "markdown",
   "id": "d3ed0006",
   "metadata": {},
   "source": [
    "### 7.3.3 Filling a dictionary with user input"
   ]
  },
  {
   "cell_type": "code",
   "execution_count": 22,
   "id": "c7cd9284",
   "metadata": {},
   "outputs": [
    {
     "name": "stdout",
     "output_type": "stream",
     "text": [
      "\n",
      "What is your name? Zach\n",
      "Which mountain would you like to climb someday? Tai\n",
      "Would you like to let another person respond? (yes/ no) no\n",
      "\n",
      "--- Poll Results ---\n",
      "Zach would like to climb Tai.\n"
     ]
    }
   ],
   "source": [
    "responses = {}\n",
    "polling_active = True\n",
    "\n",
    "while polling_active:\n",
    "    name = input(\"\\nWhat is your name? \")\n",
    "    response = input(\"Which mountain would you like to climb someday? \")\n",
    "    \n",
    "    responses[name] = response\n",
    "    \n",
    "    repeat = input(\"Would you like to let another person respond? (yes/ no) \")\n",
    "    if repeat == 'no':\n",
    "        polling_active = False\n",
    "print(\"\\n--- Poll Results ---\")\n",
    "for name, response in responses.items():\n",
    "    print(f\"{name} would like to climb {response}.\")"
   ]
  },
  {
   "cell_type": "markdown",
   "id": "22c2cd38",
   "metadata": {},
   "source": [
    "### TRY IT YOURSELF\n",
    "\n",
    "- deli.py\n",
    "- no_pastrami.py\n",
    "- dream_vacation.py"
   ]
  },
  {
   "cell_type": "markdown",
   "id": "687982fa",
   "metadata": {},
   "source": [
    "## 7.4 Summary "
   ]
  }
 ],
 "metadata": {
  "kernelspec": {
   "display_name": "Python 3 (ipykernel)",
   "language": "python",
   "name": "python3"
  },
  "language_info": {
   "codemirror_mode": {
    "name": "ipython",
    "version": 3
   },
   "file_extension": ".py",
   "mimetype": "text/x-python",
   "name": "python",
   "nbconvert_exporter": "python",
   "pygments_lexer": "ipython3",
   "version": "3.8.13"
  }
 },
 "nbformat": 4,
 "nbformat_minor": 5
}
